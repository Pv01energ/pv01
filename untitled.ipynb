{
  "nbformat": 4,
  "nbformat_minor": 0,
  "metadata": {
    "colab": {
      "private_outputs": true,
      "provenance": [],
      "authorship_tag": "ABX9TyP1cMBP9ai7QoNtxUxG6LSA",
      "include_colab_link": true
    },
    "kernelspec": {
      "name": "python3",
      "display_name": "Python 3"
    },
    "language_info": {
      "name": "python"
    }
  },
  "cells": [
    {
      "cell_type": "markdown",
      "metadata": {
        "id": "view-in-github",
        "colab_type": "text"
      },
      "source": [
        "<a href=\"https://colab.research.google.com/github/Pv01energ/pv01/blob/main/untitled.ipynb\" target=\"_parent\"><img src=\"https://colab.research.google.com/assets/colab-badge.svg\" alt=\"Open In Colab\"/></a>"
      ]
    },
    {
      "cell_type": "code",
      "source": [
        "# Бот Анфиса:"
      ],
      "metadata": {
        "id": "V_ldGQZeMPsj"
      },
      "execution_count": null,
      "outputs": []
    },
    {
      "cell_type": "code",
      "source": [
        "import datetime as dt\n",
        "import requests"
      ],
      "metadata": {
        "id": "-aoxu0B0M8NV"
      },
      "execution_count": null,
      "outputs": []
    },
    {
      "cell_type": "code",
      "source": [
        "DATABASE = {\n",
        "    'Сергей': 'Омск',\n",
        "    'Соня': 'Москва',\n",
        "    'Алексей': 'Калининград',\n",
        "    'Миша': 'Москва',\n",
        "    'Дима': 'Челябинск',\n",
        "    'Алина': 'Красноярск',\n",
        "    'Егор': 'Пермь',\n",
        "    'Коля': 'Красноярск',\n",
        "    'Артём': 'Владивосток',\n",
        "    'Петя': 'Михайловка'\n",
        "}"
      ],
      "metadata": {
        "id": "TNjLQQOWNPc1"
      },
      "execution_count": null,
      "outputs": []
    },
    {
      "cell_type": "code",
      "source": [
        "UTC_OFFSET = {\n",
        "    'Москва': 3,\n",
        "    'Санкт-Петербург': 3,\n",
        "    'Новосибирск': 7,\n",
        "    'Екатеринбург': 5,\n",
        "    'Нижний Новгород': 3,\n",
        "    'Казань': 3,\n",
        "    'Челябинск': 5,\n",
        "    'Омск': 6,\n",
        "    'Самара': 4,\n",
        "    'Ростов-на-Дону': 3,\n",
        "    'Уфа': 5,\n",
        "    'Красноярск': 7,\n",
        "    'Воронеж': 3,\n",
        "    'Пермь': 5,\n",
        "    'Волгоград': 3,\n",
        "    'Краснодар': 3,\n",
        "    'Калининград': 2,\n",
        "    'Владивосток': 10\n",
        "}"
      ],
      "metadata": {
        "id": "WYbre4bgNZ58"
      },
      "execution_count": null,
      "outputs": []
    },
    {
      "cell_type": "code",
      "source": [
        "def format_count_friends(count_friends):\n",
        "    if count_friends == 1:\n",
        "        return '1 друг'\n",
        "    elif 2 <= count_friends <= 4:\n",
        "        return f'{count_friends} друга'\n",
        "    else:\n",
        "        return f'{count_friends} друзей'"
      ],
      "metadata": {
        "id": "OL8hGFdhNiZN"
      },
      "execution_count": null,
      "outputs": []
    },
    {
      "cell_type": "code",
      "source": [
        "def what_time(city):\n",
        "    offset = UTC_OFFSET[city]\n",
        "    city_time = dt.datetime.utcnow() + dt.timedelta(hours=offset)\n",
        "    f_time = city_time.strftime(\"%H:%M\")\n",
        "    return f_time"
      ],
      "metadata": {
        "id": "RBejMAYjNpNr"
      },
      "execution_count": null,
      "outputs": []
    },
    {
      "cell_type": "code",
      "source": [
        "def what_weather(city):\n",
        "    url = f'http://wttr.in/{city}'\n",
        "    weather_parameters = {\n",
        "        'format': 2,\n",
        "        'M': ''\n",
        "    }\n",
        "    try:\n",
        "        response = requests.get(url, params=weather_parameters)\n",
        "    except requests.ConnectionError:\n",
        "        return '<сетевая ошибка>'\n",
        "    if response.status_code == 200:\n",
        "        return response.text\n",
        "    else:\n",
        "        return '<ошибка на сервере погоды>'"
      ],
      "metadata": {
        "id": "RCKaJSbuN03L"
      },
      "execution_count": null,
      "outputs": []
    },
    {
      "cell_type": "code",
      "source": [
        "def process_anfisa(query):\n",
        "    if query == 'сколько у меня друзей?':\n",
        "        count = len(DATABASE)\n",
        "        return f'У тебя {format_count_friends(count)}.'\n",
        "    elif query == 'кто все мои друзья?':\n",
        "        friends_string = ', '.join(DATABASE)\n",
        "        return f'Твои друзья: {friends_string}'\n",
        "    elif query == 'где все мои друзья?':\n",
        "        unique_cities = set(DATABASE.values())\n",
        "        cities_string = ', '.join(unique_cities)\n",
        "        return f'Твои друзья в городах: {cities_string}'\n",
        "    else:\n",
        "        return '<неизвестный запрос>'"
      ],
      "metadata": {
        "id": "jstB7ZyHN8vF"
      },
      "execution_count": null,
      "outputs": []
    },
    {
      "cell_type": "code",
      "source": [
        "def process_friend(name, query):\n",
        "    if name in DATABASE:\n",
        "        city = DATABASE[name]\n",
        "        if query == 'ты где?':\n",
        "            return f'{name} в городе {city}'\n",
        "        elif query == 'который час?':\n",
        "            if city not in UTC_OFFSET:\n",
        "                return f'<не могу определить время в городе {city}>'\n",
        "            time = what_time(city)\n",
        "            return f'Там сейчас {time}'\n",
        "        elif query == 'как погода?':\n",
        "            return what_weather(city)\n",
        "        else:\n",
        "            return '<неизвестный запрос>'\n",
        "    else:\n",
        "        return f'У тебя нет друга по имени {name}'"
      ],
      "metadata": {
        "id": "rjDPqW7kOHmz"
      },
      "execution_count": null,
      "outputs": []
    },
    {
      "cell_type": "code",
      "source": [
        "def process_query(query):\n",
        "    elements = query.split(', ')\n",
        "    if elements[0] == 'Анфиса':\n",
        "        return process_anfisa(elements[1])\n",
        "    else:\n",
        "        return process_friend(elements[0], elements[1])"
      ],
      "metadata": {
        "id": "uue4T_nXOQA7"
      },
      "execution_count": null,
      "outputs": []
    },
    {
      "cell_type": "code",
      "source": [
        "def runner():\n",
        "    queries = [\n",
        "        'Анфиса, сколько у меня друзей?',\n",
        "        'Анфиса, кто все мои друзья?',\n",
        "        'Анфиса, где все мои друзья?',\n",
        "        'Анфиса, кто виноват?',\n",
        "        'Коля, ты где?',\n",
        "        'Соня, что делать?',\n",
        "        'Антон, ты где?',\n",
        "        'Алексей, который час?',\n",
        "        'Артём, который час?',\n",
        "        'Антон, который час?',\n",
        "        'Петя, который час?',\n",
        "        'Коля, как погода?',\n",
        "        'Соня, как погода?',\n",
        "        'Антон, как погода?'\n",
        "    ]\n",
        "    for query in queries:\n",
        "        print(query, '-', process_query(query))"
      ],
      "metadata": {
        "id": "u1s9PwysOXBb"
      },
      "execution_count": null,
      "outputs": []
    },
    {
      "cell_type": "code",
      "source": [
        "runner()"
      ],
      "metadata": {
        "id": "oh3ueXvxOfbM"
      },
      "execution_count": null,
      "outputs": []
    },
    {
      "cell_type": "code",
      "source": [],
      "metadata": {
        "id": "M96pjNk6Om1e"
      },
      "execution_count": null,
      "outputs": []
    }
  ]
}