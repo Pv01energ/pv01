{
  "cells": [
    {
      "cell_type": "markdown",
      "metadata": {
        "id": "view-in-github",
        "colab_type": "text"
      },
      "source": [
        "<a href=\"https://colab.research.google.com/github/Pv01energ/pv01/blob/main/'PavlovP_'WDBC''.ipynb\" target=\"_parent\"><img src=\"https://colab.research.google.com/assets/colab-badge.svg\" alt=\"Open In Colab\"/></a>"
      ]
    },
    {
      "cell_type": "markdown",
      "metadata": {
        "id": "SF2CIa3v81Pp"
      },
      "source": [
        "  Здравствуйте!\n",
        "  В этой задаче (классификации) Мы должны предсказать наличие (или отсутствие) онкологии молочной железы: 'M' (злокачественная) или 'B' (доброкачественная), используя методы машинного обучения (ML). \n",
        "  Используемый Датасет: \"Набор данных о раке молочной железы в Висконсине (диагностический)\", ссылка (на Датасет): https://www.kaggle.com/datasets/uciml/breast-cancer-wisconsin-data , (на Репозиторий): https://archive.ics.uci.edu/ml/machine-learning-databases/breast-cancer-wisconsin/wdbc.data ) \n",
        "\n"
      ]
    },
    {
      "cell_type": "markdown",
      "metadata": {
        "id": "RuFy0RSwW3wA"
      },
      "source": [
        "# Загрузка данных"
      ]
    },
    {
      "cell_type": "code",
      "execution_count": null,
      "metadata": {
        "id": "tKLm1qxRdvwY",
        "colab": {
          "base_uri": "https://localhost:8080/"
        },
        "outputId": "f3e4a2c9-f4c6-46cd-819c-68e40cf09c31"
      },
      "outputs": [
        {
          "output_type": "display_data",
          "data": {
            "text/plain": [
              "<IPython.core.display.HTML object>"
            ],
            "text/html": [
              "\n",
              "     <input type=\"file\" id=\"files-7e6e9f51-1dd5-45f4-97dd-da6c0e01964f\" name=\"files[]\" multiple disabled\n",
              "        style=\"border:none\" />\n",
              "     <output id=\"result-7e6e9f51-1dd5-45f4-97dd-da6c0e01964f\">\n",
              "      Upload widget is only available when the cell has been executed in the\n",
              "      current browser session. Please rerun this cell to enable.\n",
              "      </output>\n",
              "      <script>// Copyright 2017 Google LLC\n",
              "//\n",
              "// Licensed under the Apache License, Version 2.0 (the \"License\");\n",
              "// you may not use this file except in compliance with the License.\n",
              "// You may obtain a copy of the License at\n",
              "//\n",
              "//      http://www.apache.org/licenses/LICENSE-2.0\n",
              "//\n",
              "// Unless required by applicable law or agreed to in writing, software\n",
              "// distributed under the License is distributed on an \"AS IS\" BASIS,\n",
              "// WITHOUT WARRANTIES OR CONDITIONS OF ANY KIND, either express or implied.\n",
              "// See the License for the specific language governing permissions and\n",
              "// limitations under the License.\n",
              "\n",
              "/**\n",
              " * @fileoverview Helpers for google.colab Python module.\n",
              " */\n",
              "(function(scope) {\n",
              "function span(text, styleAttributes = {}) {\n",
              "  const element = document.createElement('span');\n",
              "  element.textContent = text;\n",
              "  for (const key of Object.keys(styleAttributes)) {\n",
              "    element.style[key] = styleAttributes[key];\n",
              "  }\n",
              "  return element;\n",
              "}\n",
              "\n",
              "// Max number of bytes which will be uploaded at a time.\n",
              "const MAX_PAYLOAD_SIZE = 100 * 1024;\n",
              "\n",
              "function _uploadFiles(inputId, outputId) {\n",
              "  const steps = uploadFilesStep(inputId, outputId);\n",
              "  const outputElement = document.getElementById(outputId);\n",
              "  // Cache steps on the outputElement to make it available for the next call\n",
              "  // to uploadFilesContinue from Python.\n",
              "  outputElement.steps = steps;\n",
              "\n",
              "  return _uploadFilesContinue(outputId);\n",
              "}\n",
              "\n",
              "// This is roughly an async generator (not supported in the browser yet),\n",
              "// where there are multiple asynchronous steps and the Python side is going\n",
              "// to poll for completion of each step.\n",
              "// This uses a Promise to block the python side on completion of each step,\n",
              "// then passes the result of the previous step as the input to the next step.\n",
              "function _uploadFilesContinue(outputId) {\n",
              "  const outputElement = document.getElementById(outputId);\n",
              "  const steps = outputElement.steps;\n",
              "\n",
              "  const next = steps.next(outputElement.lastPromiseValue);\n",
              "  return Promise.resolve(next.value.promise).then((value) => {\n",
              "    // Cache the last promise value to make it available to the next\n",
              "    // step of the generator.\n",
              "    outputElement.lastPromiseValue = value;\n",
              "    return next.value.response;\n",
              "  });\n",
              "}\n",
              "\n",
              "/**\n",
              " * Generator function which is called between each async step of the upload\n",
              " * process.\n",
              " * @param {string} inputId Element ID of the input file picker element.\n",
              " * @param {string} outputId Element ID of the output display.\n",
              " * @return {!Iterable<!Object>} Iterable of next steps.\n",
              " */\n",
              "function* uploadFilesStep(inputId, outputId) {\n",
              "  const inputElement = document.getElementById(inputId);\n",
              "  inputElement.disabled = false;\n",
              "\n",
              "  const outputElement = document.getElementById(outputId);\n",
              "  outputElement.innerHTML = '';\n",
              "\n",
              "  const pickedPromise = new Promise((resolve) => {\n",
              "    inputElement.addEventListener('change', (e) => {\n",
              "      resolve(e.target.files);\n",
              "    });\n",
              "  });\n",
              "\n",
              "  const cancel = document.createElement('button');\n",
              "  inputElement.parentElement.appendChild(cancel);\n",
              "  cancel.textContent = 'Cancel upload';\n",
              "  const cancelPromise = new Promise((resolve) => {\n",
              "    cancel.onclick = () => {\n",
              "      resolve(null);\n",
              "    };\n",
              "  });\n",
              "\n",
              "  // Wait for the user to pick the files.\n",
              "  const files = yield {\n",
              "    promise: Promise.race([pickedPromise, cancelPromise]),\n",
              "    response: {\n",
              "      action: 'starting',\n",
              "    }\n",
              "  };\n",
              "\n",
              "  cancel.remove();\n",
              "\n",
              "  // Disable the input element since further picks are not allowed.\n",
              "  inputElement.disabled = true;\n",
              "\n",
              "  if (!files) {\n",
              "    return {\n",
              "      response: {\n",
              "        action: 'complete',\n",
              "      }\n",
              "    };\n",
              "  }\n",
              "\n",
              "  for (const file of files) {\n",
              "    const li = document.createElement('li');\n",
              "    li.append(span(file.name, {fontWeight: 'bold'}));\n",
              "    li.append(span(\n",
              "        `(${file.type || 'n/a'}) - ${file.size} bytes, ` +\n",
              "        `last modified: ${\n",
              "            file.lastModifiedDate ? file.lastModifiedDate.toLocaleDateString() :\n",
              "                                    'n/a'} - `));\n",
              "    const percent = span('0% done');\n",
              "    li.appendChild(percent);\n",
              "\n",
              "    outputElement.appendChild(li);\n",
              "\n",
              "    const fileDataPromise = new Promise((resolve) => {\n",
              "      const reader = new FileReader();\n",
              "      reader.onload = (e) => {\n",
              "        resolve(e.target.result);\n",
              "      };\n",
              "      reader.readAsArrayBuffer(file);\n",
              "    });\n",
              "    // Wait for the data to be ready.\n",
              "    let fileData = yield {\n",
              "      promise: fileDataPromise,\n",
              "      response: {\n",
              "        action: 'continue',\n",
              "      }\n",
              "    };\n",
              "\n",
              "    // Use a chunked sending to avoid message size limits. See b/62115660.\n",
              "    let position = 0;\n",
              "    do {\n",
              "      const length = Math.min(fileData.byteLength - position, MAX_PAYLOAD_SIZE);\n",
              "      const chunk = new Uint8Array(fileData, position, length);\n",
              "      position += length;\n",
              "\n",
              "      const base64 = btoa(String.fromCharCode.apply(null, chunk));\n",
              "      yield {\n",
              "        response: {\n",
              "          action: 'append',\n",
              "          file: file.name,\n",
              "          data: base64,\n",
              "        },\n",
              "      };\n",
              "\n",
              "      let percentDone = fileData.byteLength === 0 ?\n",
              "          100 :\n",
              "          Math.round((position / fileData.byteLength) * 100);\n",
              "      percent.textContent = `${percentDone}% done`;\n",
              "\n",
              "    } while (position < fileData.byteLength);\n",
              "  }\n",
              "\n",
              "  // All done.\n",
              "  yield {\n",
              "    response: {\n",
              "      action: 'complete',\n",
              "    }\n",
              "  };\n",
              "}\n",
              "\n",
              "scope.google = scope.google || {};\n",
              "scope.google.colab = scope.google.colab || {};\n",
              "scope.google.colab._files = {\n",
              "  _uploadFiles,\n",
              "  _uploadFilesContinue,\n",
              "};\n",
              "})(self);\n",
              "</script> "
            ]
          },
          "metadata": {}
        },
        {
          "output_type": "stream",
          "name": "stdout",
          "text": [
            "Saving data.csv to data (1).csv\n"
          ]
        }
      ],
      "source": [
        "# импортируем необходимые библиотеки \n",
        "import numpy as np\n",
        "import seaborn as sns\n",
        "import matplotlib.pyplot as plt\n",
        "import pandas as pd\n",
        "\n",
        "# загружаем датасет (data)\n",
        "from google.colab import files \n",
        "uploaded = files.upload()\n",
        "dt = pd.read_csv('data.csv')"
      ]
    },
    {
      "cell_type": "code",
      "execution_count": null,
      "metadata": {
        "id": "shPpVv7KUvD6"
      },
      "outputs": [],
      "source": [
        "# подключение к среде Colab\n",
        "from google.colab import drive\n",
        "drive.mount('/content/drive')"
      ]
    },
    {
      "cell_type": "markdown",
      "metadata": {
        "id": "7X78G_RhDdx1"
      },
      "source": [
        "# Описание датасета"
      ]
    },
    {
      "cell_type": "code",
      "execution_count": null,
      "metadata": {
        "id": "48KV9PsH227g"
      },
      "outputs": [],
      "source": [
        "# извлекаем интересующую нас информацию из описания Датасета\n",
        "from sklearn import datasets\n",
        "data=datasets.load_breast_cancer()\n",
        "print(data.keys())"
      ]
    },
    {
      "cell_type": "code",
      "execution_count": null,
      "metadata": {
        "id": "7oC_n_p_2q_B"
      },
      "outputs": [],
      "source": [
        "# Анотация к Датасету\n",
        "print(data.DESCR)  "
      ]
    },
    {
      "cell_type": "markdown",
      "metadata": {
        "id": "laUs-dtwDuQp"
      },
      "source": [
        "О наборе данных (перевод):\n",
        "\n",
        "Характеристики вычисляются по оцифрованному изображению аспирата тонкой иглы (FNA) массы молочной железы. Они описывают характеристики ядер клеток, присутствующих на изображении.\n",
        "n трехмерное пространство - это то, что описано в: [К. П. Беннетт и О. Л. Мангасарян: \"Надежная линейная программная дискриминация двух линейно неотделимых множеств\", Методы оптимизации и программное обеспечение 1, 1992, 23-34].\n",
        "\n",
        "Эта база данных также доступна через ftp-сервер UW CS:\n",
        "ftp ftp.cs.wisc.edu\n",
        "cd math-prog / cpo-dataset / машинное обучение /WDBC/\n",
        "Также можно найти в репозитории машинного обучения UCI: https://archive.ics.uci.edu/ml/datasets/Breast/canser \n",
        "\n",
        "Атрибутивная информация:\n",
        "\n",
        "а) ИДЕНТИФИКАЦИОННЫЙ номер\n",
        "\n",
        "б) Диагноз (M = злокачественный, B = доброкачественный)\n",
        "3-32)\n",
        "\n",
        "Для каждого клеточного ядра вычисляются 10 (Десять) признаков (вещественных):\n",
        "\n",
        "1) радиус (среднее расстояние от центра до точек по периметру)\n",
        "\n",
        "2) текстура (стандартное отклонение значений шкалы серого)\n",
        "\n",
        "3) периметр\n",
        "\n",
        "4) площадь\n",
        "\n",
        "5) гладкость (локальное изменение длины радиуса)\n",
        "\n",
        "6) компактность (периметр ^ 2 / площадь - 1,0)\n",
        "\n",
        "7) вогнутость (серьезностьвогнутых участков контура)\n",
        "\n",
        "8) вогнутые точки (количество вогнутых участков контура)\n",
        "\n",
        "9) симметрия\n",
        "\n",
        "10) фрактальная размерность (\"приближение береговой линии\" - 1)\n",
        "\n",
        "Среднее значение, стандартная ошибка и \"худшее\" или наибольшее (среднее из трех\n",
        "наибольших значений) этих признаков были вычислены для каждого изображения,\n",
        "в результате чего получилось 30 признаков. \n",
        "Например: поле 3 - это средний радиус, поле 13 - это радиус SE, поле 23 - наихудший радиус.\n",
        "\n",
        "Все значения признаков перекодируются с четырьмя значащими цифрами.\n",
        "\n",
        "Отсутствующие значения атрибутов: отсутствуют.\n",
        "\n",
        "Распределение по классам: 357 доброкачественных (В), 212 злокачественных (М)\n"
      ]
    },
    {
      "cell_type": "code",
      "execution_count": null,
      "metadata": {
        "id": "Lsa3Vuq3pXzH"
      },
      "outputs": [],
      "source": [
        "# проверяем загрузку данных (первые 5 строк таблицы)\n",
        "dt.head()"
      ]
    },
    {
      "cell_type": "markdown",
      "metadata": {
        "id": "0Ac7OnRpW8mr"
      },
      "source": [
        "# EDA (разведочный анализ) "
      ]
    },
    {
      "cell_type": "code",
      "execution_count": null,
      "metadata": {
        "id": "dkz7Ess91hq5"
      },
      "outputs": [],
      "source": [
        "# Категории параметров (строковые/числовые)\n",
        "dt.info()"
      ]
    },
    {
      "cell_type": "code",
      "execution_count": null,
      "metadata": {
        "id": "TmrdQmsryBOi"
      },
      "outputs": [],
      "source": [
        "# проверяем нулевые значечения. NaN, NAN, na\n",
        "dt.isna().sum()"
      ]
    },
    {
      "cell_type": "code",
      "execution_count": null,
      "metadata": {
        "id": "DPCxuFEV3LLh"
      },
      "outputs": [],
      "source": [
        "# удаляем параметры 'id'и'Unnamed: 32'из таблицы \n",
        "#dt = dt.drop(columns=['id', 'Unnamed: 32'], axis=1)"
      ]
    },
    {
      "cell_type": "code",
      "execution_count": null,
      "metadata": {
        "id": "F8I4-OV6zW36",
        "colab": {
          "base_uri": "https://localhost:8080/"
        },
        "outputId": "08e18780-9eff-4314-afe7-09adf56030e3"
      },
      "outputs": [
        {
          "output_type": "execute_result",
          "data": {
            "text/plain": [
              "<matplotlib.axes._subplots.AxesSubplot at 0x7f55cd03f990>"
            ]
          },
          "metadata": {},
          "execution_count": 104
        },
        {
          "output_type": "display_data",
          "data": {
            "text/plain": [
              "<Figure size 432x288 with 1 Axes>"
            ],
            "image/png": "[encoded data removed]"
          },
          "metadata": {
            "needs_background": "light"
          }
        }
      ],
      "source": [
        "# строим диаграмму целевой переменной \n",
        "sns.countplot(dt['diagnosis'], label='count')"
      ]
    },
    {
      "cell_type": "code",
      "execution_count": null,
      "metadata": {
        "id": "zdDovoMP0TQf"
      },
      "outputs": [],
      "source": [
        "# кодируем категориальные значений данных\n",
        "from sklearn.preprocessing import LabelEncoder\n",
        "labelencoder_y = LabelEncoder()\n",
        "dt.iloc[:,1] = labelencoder_y.fit_transform(dt.iloc[:,1].values)"
      ]
    },
    {
      "cell_type": "code",
      "execution_count": null,
      "metadata": {
        "id": "6RFxOjO33AjV"
      },
      "outputs": [],
      "source": [
        "# строим тепловую карту кореляции основных признаков (10)\n",
        "plt.figure(figsize=(10,10))\n",
        "sns.heatmap(dt.iloc[:,1:12].corr(), annot=True, fmt='.0%')"
      ]
    },
    {
      "cell_type": "code",
      "execution_count": null,
      "metadata": {
        "id": "x6WOStzIqVt_"
      },
      "outputs": [],
      "source": [
        "# выделим целевую переменную y (target) \n",
        "X = dt.iloc[:,2:31].values\n",
        "y = dt.iloc[:,1].values\n",
        "\n",
        "type(X)"
      ]
    },
    {
      "cell_type": "code",
      "execution_count": null,
      "metadata": {
        "id": "Xj4T7fQdrTwX"
      },
      "outputs": [],
      "source": [
        "# делим набор данных на  обучающие (80%) и тестовые (20%)  \n",
        "from sklearn.model_selection import train_test_split\n",
        "X_train, X_test, y_train, y_test = train_test_split(X,y,test_size = 0.2, random_state = 0)"
      ]
    },
    {
      "cell_type": "code",
      "execution_count": null,
      "metadata": {
        "id": "BxBTmHOzr3dv"
      },
      "outputs": [],
      "source": [
        "# предварительная обработка импорта StandardScaler, масштабируем данные (объектов)из sklearn. \n",
        "\n",
        "from sklearn.preprocessing import StandardScaler\n",
        "sc = StandardScaler()\n",
        "X_train = sc.fit_transform(X_train)\n",
        "X_test = sc.fit_transform(X_test)"
      ]
    },
    {
      "cell_type": "markdown",
      "metadata": {
        "id": "WlzsygePpBB7"
      },
      "source": [
        "# Sclearn: Логистическая регрессия (logistic regression), Дерево решений (decision tree), Cлучайный лес (random forest classifier)"
      ]
    },
    {
      "cell_type": "code",
      "execution_count": null,
      "metadata": {
        "id": "wDJWBLrSrTu0"
      },
      "outputs": [],
      "source": [
        "# функция для построения моделей (на основании обучающих данных)\n",
        "def models(X_train, y_train):\n",
        "\n",
        "  # Логистическая регрессия (logistic regression)\n",
        "  from sklearn.linear_model import LogisticRegression\n",
        "  logr = LogisticRegression(random_state=0)\n",
        "  logr.fit(X_train, y_train)\n",
        "\n",
        "  # Дерево решений (decision tree)\n",
        "  from sklearn.tree import DecisionTreeClassifier\n",
        "  dtree = DecisionTreeClassifier(criterion = 'entropy', random_state=0)\n",
        "  dtree.fit(X_train, y_train)\n",
        "\n",
        "  # Случайный лес (random forest classifier)\n",
        "  from sklearn.ensemble import RandomForestClassifier\n",
        "  rforest = RandomForestClassifier(n_estimators = 10, criterion = 'entropy', random_state = 0)\n",
        "  rforest.fit(X_train, y_train)\n",
        "\n",
        "  # точность моделей на основе обучающих данных\n",
        "  print('[0]Logistic Regression Training Accutacy:', logr.score(X_train, y_train))\n",
        "  print('[1]Logistic Decision Tree Classifier Training Accuracy:', dtree.score(X_train, y_train))\n",
        "  print('[2]Random Forest Classifier Accutacy:', rforest.score(X_train, y_train))\n",
        "\n",
        "  return logr, dtree, rforest"
      ]
    },
    {
      "cell_type": "code",
      "execution_count": null,
      "metadata": {
        "id": "pneUvxRmukdj"
      },
      "outputs": [],
      "source": [
        "#Выводим результаты обучения моделей (train)\n",
        "model = models(X_train, y_train)"
      ]
    },
    {
      "cell_type": "code",
      "execution_count": null,
      "metadata": {
        "id": "wLnJJIsVu8-_"
      },
      "outputs": [],
      "source": [
        "# проверка точности моделей (на тестовых данных) с использованием матрицы ошибок\n",
        "from sklearn.metrics import confusion_matrix\n",
        "\n",
        "for i in range(len(model)):\n",
        "  print('Model ', i)\n",
        "  cm = confusion_matrix(y_test, model[i].predict(X_test))\n",
        "\n",
        "# истинные положительные результаты, ложноположительные результаты, ложноотрицательные результаты и истинные отрицательные результаты соответственно\n",
        "  TP = cm[0][0]\n",
        "  TN = cm[1][1]\n",
        "  FN = cm[1][0]\n",
        "  FP = cm[0][1]\n",
        "\n",
        "  print(cm)\n",
        "  print('Testing Accuracy = ', (TP+TN)/(TP+TN+FN+FP))\n",
        "  print()"
      ]
    },
    {
      "cell_type": "code",
      "execution_count": null,
      "metadata": {
        "id": "mGwn8T2BT_ax"
      },
      "outputs": [],
      "source": [
        "# строим таблицу для сравнения результатов ML Sclearn\n",
        "from prettytable import PrettyTable\n",
        "    \n",
        "X = PrettyTable()\n",
        "\n",
        "X.title = 'Результат тестирования моделей: '\n",
        "X.field_names = [\"Название модели Sclearn\", \"Tочность обучения\", \"Tочность тестирования\"]\n",
        "\n",
        "X.add_row([\"Logistic Regression (LR)\", \"99.12 %\",\"96.491228 %\"])\n",
        "X.add_row([\"Logistic Decision Tree Classifier\", \"100 %\",\"93.859649 %\"])\n",
        "X.add_row([\"Random Forest Classfier (RFC)\", \"99.78 %\",\"97.368421 %\"])\n",
        "\n",
        "print(X)"
      ]
    },
    {
      "cell_type": "markdown",
      "metadata": {
        "id": "GSC47EigC5Y4"
      },
      "source": [
        "Лучший результат по точности тестирования (Testing Accuracy) показала модель - Cлучайный лес (Random forest classifier) RFC: 0.97368421 (или 97,368421 %)"
      ]
    },
    {
      "cell_type": "markdown",
      "metadata": {
        "id": "i5SanCwKCi27"
      },
      "source": [
        "# PyCaret"
      ]
    },
    {
      "cell_type": "code",
      "execution_count": null,
      "metadata": {
        "id": "O_h5Kc5p4dzR"
      },
      "outputs": [],
      "source": [
        "# устанавливаем среду PyCaret (после перезапуска среды исполняем код, начиная с этой команды)\n",
        "!pip install --pre pycaret"
      ]
    },
    {
      "cell_type": "code",
      "execution_count": null,
      "metadata": {
        "id": "qRTvO0lCcgF9"
      },
      "outputs": [],
      "source": [
        "# подключаемся к датасету (после исполнения этой команды среду не перезапускать!)\n",
        "from pycaret.datasets import get_data\n",
        "data = get_data('data')"
      ]
    },
    {
      "cell_type": "code",
      "execution_count": null,
      "metadata": {
        "id": "dE5al3BiczQN"
      },
      "outputs": [],
      "source": [
        "# выбираем  целевую переменную\n",
        "from pycaret.classification import *\n",
        "s = setup(data,target = 'diagnosis')"
      ]
    },
    {
      "cell_type": "code",
      "execution_count": null,
      "metadata": {
        "id": "oihPRe6xaTqz"
      },
      "outputs": [],
      "source": [
        "# выбираем лучшую модель\n",
        "best = compare_models()"
      ]
    },
    {
      "cell_type": "code",
      "execution_count": null,
      "metadata": {
        "id": "nKkNnI9YaOAZ"
      },
      "outputs": [],
      "source": [
        "# строим  график, позволяющий оценить качество классификации\n",
        "plot_model(best)"
      ]
    },
    {
      "cell_type": "code",
      "execution_count": null,
      "metadata": {
        "id": "GWWK_gPZaZGx",
        "colab": {
          "base_uri": "https://localhost:8080/",
          "referenced_widgets": [
            "62025169ed214fa1b4bbf0dd10bb259f",
            "31f26ff8c6fe4edb8f2453380df130c1",
            "4be2e342e84d4972bdc86321020e037f",
            "d451e26f6e364bab83ac03afabcada8d",
            "ce03e3cb544f4f4abfe9128ee339e3c2",
            "a5613835d5c74e6b8f043dd4e685bf3c",
            "bf5d992bc11e4796b311b79c98d1dd1b"
          ]
        },
        "outputId": "e4dfb88b-0eae-4edc-8064-51eee07fee37"
      },
      "outputs": [
        {
          "output_type": "display_data",
          "data": {
            "text/plain": [
              "<Figure size 800x1500 with 1 Axes>"
            ],
            "image/png": "[encoded data removed]"
          },
          "metadata": {
            "needs_background": "light"
          }
        }
      ],
      "source": [
        "# Визуализации настроек модели ML (Нужно понажимать на радиокнопочки, например 'Feature Importance' и др.)\n",
        "evaluate_model(best)"
      ]
    },
    {
      "cell_type": "code",
      "execution_count": null,
      "metadata": {
        "id": "dbwbgIgCdGHT"
      },
      "outputs": [],
      "source": [
        "# выполняем обучение ML\n",
        "from pycaret.classification import ClassificationExperiment\n",
        "exp1 = ClassificationExperiment()"
      ]
    },
    {
      "cell_type": "code",
      "execution_count": null,
      "metadata": {
        "id": "S3hnCd8SdNfF",
        "colab": {
          "base_uri": "https://localhost:8080/"
        },
        "outputId": "66c4caf8-f988-4edd-9b1c-1a4e90c0e30d"
      },
      "outputs": [
        {
          "output_type": "display_data",
          "data": {
            "text/plain": [
              "<pandas.io.formats.style.Styler at 0x7f55ccddcbd0>"
            ],
            "text/html": [
              "<style type=\"text/css\">\n",
              "#T_7e6fe_row10_col1 {\n",
              "  background-color: lightgreen;\n",
              "}\n",
              "</style>\n",
              "<table id=\"T_7e6fe_\" class=\"dataframe\">\n",
              "  <thead>\n",
              "    <tr>\n",
              "      <th class=\"blank level0\" >&nbsp;</th>\n",
              "      <th class=\"col_heading level0 col0\" >Description</th>\n",
              "      <th class=\"col_heading level0 col1\" >Value</th>\n",
              "    </tr>\n",
              "  </thead>\n",
              "  <tbody>\n",
              "    <tr>\n",
              "      <th id=\"T_7e6fe_level0_row0\" class=\"row_heading level0 row0\" >0</th>\n",
              "      <td id=\"T_7e6fe_row0_col0\" class=\"data row0 col0\" >Session id</td>\n",
              "      <td id=\"T_7e6fe_row0_col1\" class=\"data row0 col1\" >7521</td>\n",
              "    </tr>\n",
              "    <tr>\n",
              "      <th id=\"T_7e6fe_level0_row1\" class=\"row_heading level0 row1\" >1</th>\n",
              "      <td id=\"T_7e6fe_row1_col0\" class=\"data row1 col0\" >Target</td>\n",
              "      <td id=\"T_7e6fe_row1_col1\" class=\"data row1 col1\" >diagnosis</td>\n",
              "    </tr>\n",
              "    <tr>\n",
              "      <th id=\"T_7e6fe_level0_row2\" class=\"row_heading level0 row2\" >2</th>\n",
              "      <td id=\"T_7e6fe_row2_col0\" class=\"data row2 col0\" >Target type</td>\n",
              "      <td id=\"T_7e6fe_row2_col1\" class=\"data row2 col1\" >Binary</td>\n",
              "    </tr>\n",
              "    <tr>\n",
              "      <th id=\"T_7e6fe_level0_row3\" class=\"row_heading level0 row3\" >3</th>\n",
              "      <td id=\"T_7e6fe_row3_col0\" class=\"data row3 col0\" >Target mapping</td>\n",
              "      <td id=\"T_7e6fe_row3_col1\" class=\"data row3 col1\" >B: 0, M: 1</td>\n",
              "    </tr>\n",
              "    <tr>\n",
              "      <th id=\"T_7e6fe_level0_row4\" class=\"row_heading level0 row4\" >4</th>\n",
              "      <td id=\"T_7e6fe_row4_col0\" class=\"data row4 col0\" >Original data shape</td>\n",
              "      <td id=\"T_7e6fe_row4_col1\" class=\"data row4 col1\" >(569, 33)</td>\n",
              "    </tr>\n",
              "    <tr>\n",
              "      <th id=\"T_7e6fe_level0_row5\" class=\"row_heading level0 row5\" >5</th>\n",
              "      <td id=\"T_7e6fe_row5_col0\" class=\"data row5 col0\" >Transformed data shape</td>\n",
              "      <td id=\"T_7e6fe_row5_col1\" class=\"data row5 col1\" >(569, 32)</td>\n",
              "    </tr>\n",
              "    <tr>\n",
              "      <th id=\"T_7e6fe_level0_row6\" class=\"row_heading level0 row6\" >6</th>\n",
              "      <td id=\"T_7e6fe_row6_col0\" class=\"data row6 col0\" >Transformed train set shape</td>\n",
              "      <td id=\"T_7e6fe_row6_col1\" class=\"data row6 col1\" >(398, 32)</td>\n",
              "    </tr>\n",
              "    <tr>\n",
              "      <th id=\"T_7e6fe_level0_row7\" class=\"row_heading level0 row7\" >7</th>\n",
              "      <td id=\"T_7e6fe_row7_col0\" class=\"data row7 col0\" >Transformed test set shape</td>\n",
              "      <td id=\"T_7e6fe_row7_col1\" class=\"data row7 col1\" >(171, 32)</td>\n",
              "    </tr>\n",
              "    <tr>\n",
              "      <th id=\"T_7e6fe_level0_row8\" class=\"row_heading level0 row8\" >8</th>\n",
              "      <td id=\"T_7e6fe_row8_col0\" class=\"data row8 col0\" >Numeric features</td>\n",
              "      <td id=\"T_7e6fe_row8_col1\" class=\"data row8 col1\" >32</td>\n",
              "    </tr>\n",
              "    <tr>\n",
              "      <th id=\"T_7e6fe_level0_row9\" class=\"row_heading level0 row9\" >9</th>\n",
              "      <td id=\"T_7e6fe_row9_col0\" class=\"data row9 col0\" >Rows with missing values</td>\n",
              "      <td id=\"T_7e6fe_row9_col1\" class=\"data row9 col1\" >100.0%</td>\n",
              "    </tr>\n",
              "    <tr>\n",
              "      <th id=\"T_7e6fe_level0_row10\" class=\"row_heading level0 row10\" >10</th>\n",
              "      <td id=\"T_7e6fe_row10_col0\" class=\"data row10 col0\" >Preprocess</td>\n",
              "      <td id=\"T_7e6fe_row10_col1\" class=\"data row10 col1\" >True</td>\n",
              "    </tr>\n",
              "    <tr>\n",
              "      <th id=\"T_7e6fe_level0_row11\" class=\"row_heading level0 row11\" >11</th>\n",
              "      <td id=\"T_7e6fe_row11_col0\" class=\"data row11 col0\" >Imputation type</td>\n",
              "      <td id=\"T_7e6fe_row11_col1\" class=\"data row11 col1\" >simple</td>\n",
              "    </tr>\n",
              "    <tr>\n",
              "      <th id=\"T_7e6fe_level0_row12\" class=\"row_heading level0 row12\" >12</th>\n",
              "      <td id=\"T_7e6fe_row12_col0\" class=\"data row12 col0\" >Numeric imputation</td>\n",
              "      <td id=\"T_7e6fe_row12_col1\" class=\"data row12 col1\" >mean</td>\n",
              "    </tr>\n",
              "    <tr>\n",
              "      <th id=\"T_7e6fe_level0_row13\" class=\"row_heading level0 row13\" >13</th>\n",
              "      <td id=\"T_7e6fe_row13_col0\" class=\"data row13 col0\" >Categorical imputation</td>\n",
              "      <td id=\"T_7e6fe_row13_col1\" class=\"data row13 col1\" >constant</td>\n",
              "    </tr>\n",
              "    <tr>\n",
              "      <th id=\"T_7e6fe_level0_row14\" class=\"row_heading level0 row14\" >14</th>\n",
              "      <td id=\"T_7e6fe_row14_col0\" class=\"data row14 col0\" >Low variance threshold</td>\n",
              "      <td id=\"T_7e6fe_row14_col1\" class=\"data row14 col1\" >0</td>\n",
              "    </tr>\n",
              "    <tr>\n",
              "      <th id=\"T_7e6fe_level0_row15\" class=\"row_heading level0 row15\" >15</th>\n",
              "      <td id=\"T_7e6fe_row15_col0\" class=\"data row15 col0\" >Fold Generator</td>\n",
              "      <td id=\"T_7e6fe_row15_col1\" class=\"data row15 col1\" >StratifiedKFold</td>\n",
              "    </tr>\n",
              "    <tr>\n",
              "      <th id=\"T_7e6fe_level0_row16\" class=\"row_heading level0 row16\" >16</th>\n",
              "      <td id=\"T_7e6fe_row16_col0\" class=\"data row16 col0\" >Fold Number</td>\n",
              "      <td id=\"T_7e6fe_row16_col1\" class=\"data row16 col1\" >10</td>\n",
              "    </tr>\n",
              "    <tr>\n",
              "      <th id=\"T_7e6fe_level0_row17\" class=\"row_heading level0 row17\" >17</th>\n",
              "      <td id=\"T_7e6fe_row17_col0\" class=\"data row17 col0\" >CPU Jobs</td>\n",
              "      <td id=\"T_7e6fe_row17_col1\" class=\"data row17 col1\" >-1</td>\n",
              "    </tr>\n",
              "    <tr>\n",
              "      <th id=\"T_7e6fe_level0_row18\" class=\"row_heading level0 row18\" >18</th>\n",
              "      <td id=\"T_7e6fe_row18_col0\" class=\"data row18 col0\" >Use GPU</td>\n",
              "      <td id=\"T_7e6fe_row18_col1\" class=\"data row18 col1\" >False</td>\n",
              "    </tr>\n",
              "    <tr>\n",
              "      <th id=\"T_7e6fe_level0_row19\" class=\"row_heading level0 row19\" >19</th>\n",
              "      <td id=\"T_7e6fe_row19_col0\" class=\"data row19 col0\" >Log Experiment</td>\n",
              "      <td id=\"T_7e6fe_row19_col1\" class=\"data row19 col1\" >False</td>\n",
              "    </tr>\n",
              "    <tr>\n",
              "      <th id=\"T_7e6fe_level0_row20\" class=\"row_heading level0 row20\" >20</th>\n",
              "      <td id=\"T_7e6fe_row20_col0\" class=\"data row20 col0\" >Experiment Name</td>\n",
              "      <td id=\"T_7e6fe_row20_col1\" class=\"data row20 col1\" >clf-default-name</td>\n",
              "    </tr>\n",
              "    <tr>\n",
              "      <th id=\"T_7e6fe_level0_row21\" class=\"row_heading level0 row21\" >21</th>\n",
              "      <td id=\"T_7e6fe_row21_col0\" class=\"data row21 col0\" >USI</td>\n",
              "      <td id=\"T_7e6fe_row21_col1\" class=\"data row21 col1\" >a088</td>\n",
              "    </tr>\n",
              "  </tbody>\n",
              "</table>\n"
            ]
          },
          "metadata": {}
        },
        {
          "output_type": "execute_result",
          "data": {
            "text/plain": [
              "<pycaret.classification.oop.ClassificationExperiment at 0x7f55cc2b52d0>"
            ]
          },
          "metadata": {},
          "execution_count": 121
        }
      ],
      "source": [
        "# настройки эксперемента (обучения модели)\n",
        "exp1.setup(data, target = 'diagnosis')"
      ]
    },
    {
      "cell_type": "code",
      "execution_count": null,
      "metadata": {
        "id": "IFfefXbldRgy"
      },
      "outputs": [],
      "source": [
        "#  таблица параметров  учавствующих в обучении модели (ML)\n",
        "dir(exp1)"
      ]
    },
    {
      "cell_type": "code",
      "execution_count": null,
      "metadata": {
        "id": "J5x5Q-EadTOp",
        "colab": {
          "base_uri": "https://localhost:8080/",
          "referenced_widgets": [
            "3688ca8693464445904b97dfb25cd854",
            "fd6d17d9188d4198bae3d792d5a67622",
            "060eb2ed7b8448bb80ca60ee2b268d9a",
            "757ae09b33754c9dae2223e946104de1",
            "7e99c7657d0447679e2e87e819b58b12",
            "518ddd6391c645818cf19a3a0972c98c",
            "ec6c92ad32fc491595b994ca33e5a26e",
            "5fe4e0c1d61344edaa7b6d5db8009892",
            "578a09438bf74fa08a64366a9ccc97c4",
            "080bdfdf778c4630be2717d2702be25a",
            "75a5a53abede4e1b83716a795b7ce207"
          ]
        },
        "outputId": "10bed296-2422-44eb-a309-33b743e402d4"
      },
      "outputs": [
        {
          "output_type": "display_data",
          "data": {
            "text/plain": [
              "<IPython.core.display.HTML object>"
            ],
            "text/html": []
          },
          "metadata": {}
        },
        {
          "output_type": "display_data",
          "data": {
            "text/plain": [
              "<pandas.io.formats.style.Styler at 0x7f55cea496d0>"
            ],
            "text/html": [
              "<style type=\"text/css\">\n",
              "#T_ed7ac_ th {\n",
              "  text-align: left;\n",
              "}\n",
              "#T_ed7ac_row0_col0, #T_ed7ac_row0_col3, #T_ed7ac_row0_col4, #T_ed7ac_row0_col7, #T_ed7ac_row1_col0, #T_ed7ac_row1_col2, #T_ed7ac_row1_col3, #T_ed7ac_row1_col4, #T_ed7ac_row1_col5, #T_ed7ac_row1_col6, #T_ed7ac_row1_col7, #T_ed7ac_row2_col0, #T_ed7ac_row2_col1, #T_ed7ac_row2_col2, #T_ed7ac_row2_col3, #T_ed7ac_row2_col5, #T_ed7ac_row2_col6, #T_ed7ac_row3_col0, #T_ed7ac_row3_col1, #T_ed7ac_row3_col2, #T_ed7ac_row3_col3, #T_ed7ac_row3_col4, #T_ed7ac_row3_col5, #T_ed7ac_row3_col6, #T_ed7ac_row3_col7, #T_ed7ac_row4_col0, #T_ed7ac_row4_col1, #T_ed7ac_row4_col2, #T_ed7ac_row4_col3, #T_ed7ac_row4_col4, #T_ed7ac_row4_col5, #T_ed7ac_row4_col6, #T_ed7ac_row4_col7, #T_ed7ac_row5_col0, #T_ed7ac_row5_col1, #T_ed7ac_row5_col2, #T_ed7ac_row5_col3, #T_ed7ac_row5_col5, #T_ed7ac_row5_col6, #T_ed7ac_row5_col7, #T_ed7ac_row6_col0, #T_ed7ac_row6_col1, #T_ed7ac_row6_col2, #T_ed7ac_row6_col4, #T_ed7ac_row6_col5, #T_ed7ac_row6_col6, #T_ed7ac_row6_col7, #T_ed7ac_row7_col0, #T_ed7ac_row7_col1, #T_ed7ac_row7_col2, #T_ed7ac_row7_col3, #T_ed7ac_row7_col4, #T_ed7ac_row7_col5, #T_ed7ac_row7_col6, #T_ed7ac_row7_col7, #T_ed7ac_row8_col0, #T_ed7ac_row8_col1, #T_ed7ac_row8_col2, #T_ed7ac_row8_col3, #T_ed7ac_row8_col4, #T_ed7ac_row8_col5, #T_ed7ac_row8_col6, #T_ed7ac_row8_col7, #T_ed7ac_row9_col0, #T_ed7ac_row9_col1, #T_ed7ac_row9_col2, #T_ed7ac_row9_col3, #T_ed7ac_row9_col4, #T_ed7ac_row9_col5, #T_ed7ac_row9_col6, #T_ed7ac_row9_col7, #T_ed7ac_row10_col0, #T_ed7ac_row10_col1, #T_ed7ac_row10_col2, #T_ed7ac_row10_col3, #T_ed7ac_row10_col4, #T_ed7ac_row10_col5, #T_ed7ac_row10_col6, #T_ed7ac_row10_col7, #T_ed7ac_row11_col0, #T_ed7ac_row11_col1, #T_ed7ac_row11_col2, #T_ed7ac_row11_col3, #T_ed7ac_row11_col4, #T_ed7ac_row11_col5, #T_ed7ac_row11_col6, #T_ed7ac_row11_col7, #T_ed7ac_row12_col0, #T_ed7ac_row12_col1, #T_ed7ac_row12_col2, #T_ed7ac_row12_col3, #T_ed7ac_row12_col4, #T_ed7ac_row12_col5, #T_ed7ac_row12_col6, #T_ed7ac_row12_col7, #T_ed7ac_row13_col0, #T_ed7ac_row13_col1, #T_ed7ac_row13_col2, #T_ed7ac_row13_col3, #T_ed7ac_row13_col4, #T_ed7ac_row13_col5, #T_ed7ac_row13_col6, #T_ed7ac_row13_col7 {\n",
              "  text-align: left;\n",
              "}\n",
              "#T_ed7ac_row0_col1, #T_ed7ac_row0_col2, #T_ed7ac_row0_col5, #T_ed7ac_row0_col6, #T_ed7ac_row1_col1, #T_ed7ac_row2_col4, #T_ed7ac_row2_col7, #T_ed7ac_row5_col4, #T_ed7ac_row6_col3 {\n",
              "  text-align: left;\n",
              "  background-color: yellow;\n",
              "}\n",
              "#T_ed7ac_row0_col8, #T_ed7ac_row1_col8, #T_ed7ac_row3_col8, #T_ed7ac_row4_col8, #T_ed7ac_row5_col8, #T_ed7ac_row6_col8, #T_ed7ac_row7_col8, #T_ed7ac_row8_col8, #T_ed7ac_row9_col8, #T_ed7ac_row10_col8, #T_ed7ac_row11_col8, #T_ed7ac_row12_col8, #T_ed7ac_row13_col8 {\n",
              "  text-align: left;\n",
              "  background-color: lightgrey;\n",
              "}\n",
              "#T_ed7ac_row2_col8 {\n",
              "  text-align: left;\n",
              "  background-color: yellow;\n",
              "  background-color: lightgrey;\n",
              "}\n",
              "</style>\n",
              "<table id=\"T_ed7ac_\" class=\"dataframe\">\n",
              "  <thead>\n",
              "    <tr>\n",
              "      <th class=\"blank level0\" >&nbsp;</th>\n",
              "      <th class=\"col_heading level0 col0\" >Model</th>\n",
              "      <th class=\"col_heading level0 col1\" >Accuracy</th>\n",
              "      <th class=\"col_heading level0 col2\" >AUC</th>\n",
              "      <th class=\"col_heading level0 col3\" >Recall</th>\n",
              "      <th class=\"col_heading level0 col4\" >Prec.</th>\n",
              "      <th class=\"col_heading level0 col5\" >F1</th>\n",
              "      <th class=\"col_heading level0 col6\" >Kappa</th>\n",
              "      <th class=\"col_heading level0 col7\" >MCC</th>\n",
              "      <th class=\"col_heading level0 col8\" >TT (Sec)</th>\n",
              "    </tr>\n",
              "  </thead>\n",
              "  <tbody>\n",
              "    <tr>\n",
              "      <th id=\"T_ed7ac_level0_row0\" class=\"row_heading level0 row0\" >et</th>\n",
              "      <td id=\"T_ed7ac_row0_col0\" class=\"data row0 col0\" >Extra Trees Classifier</td>\n",
              "      <td id=\"T_ed7ac_row0_col1\" class=\"data row0 col1\" >0.9549</td>\n",
              "      <td id=\"T_ed7ac_row0_col2\" class=\"data row0 col2\" >0.9895</td>\n",
              "      <td id=\"T_ed7ac_row0_col3\" class=\"data row0 col3\" >0.9195</td>\n",
              "      <td id=\"T_ed7ac_row0_col4\" class=\"data row0 col4\" >0.9614</td>\n",
              "      <td id=\"T_ed7ac_row0_col5\" class=\"data row0 col5\" >0.9382</td>\n",
              "      <td id=\"T_ed7ac_row0_col6\" class=\"data row0 col6\" >0.9028</td>\n",
              "      <td id=\"T_ed7ac_row0_col7\" class=\"data row0 col7\" >0.9054</td>\n",
              "      <td id=\"T_ed7ac_row0_col8\" class=\"data row0 col8\" >0.2780</td>\n",
              "    </tr>\n",
              "    <tr>\n",
              "      <th id=\"T_ed7ac_level0_row1\" class=\"row_heading level0 row1\" >lightgbm</th>\n",
              "      <td id=\"T_ed7ac_row1_col0\" class=\"data row1 col0\" >Light Gradient Boosting Machine</td>\n",
              "      <td id=\"T_ed7ac_row1_col1\" class=\"data row1 col1\" >0.9549</td>\n",
              "      <td id=\"T_ed7ac_row1_col2\" class=\"data row1 col2\" >0.9842</td>\n",
              "      <td id=\"T_ed7ac_row1_col3\" class=\"data row1 col3\" >0.9062</td>\n",
              "      <td id=\"T_ed7ac_row1_col4\" class=\"data row1 col4\" >0.9737</td>\n",
              "      <td id=\"T_ed7ac_row1_col5\" class=\"data row1 col5\" >0.9357</td>\n",
              "      <td id=\"T_ed7ac_row1_col6\" class=\"data row1 col6\" >0.9014</td>\n",
              "      <td id=\"T_ed7ac_row1_col7\" class=\"data row1 col7\" >0.9058</td>\n",
              "      <td id=\"T_ed7ac_row1_col8\" class=\"data row1 col8\" >0.1320</td>\n",
              "    </tr>\n",
              "    <tr>\n",
              "      <th id=\"T_ed7ac_level0_row2\" class=\"row_heading level0 row2\" >ridge</th>\n",
              "      <td id=\"T_ed7ac_row2_col0\" class=\"data row2 col0\" >Ridge Classifier</td>\n",
              "      <td id=\"T_ed7ac_row2_col1\" class=\"data row2 col1\" >0.9548</td>\n",
              "      <td id=\"T_ed7ac_row2_col2\" class=\"data row2 col2\" >0.0000</td>\n",
              "      <td id=\"T_ed7ac_row2_col3\" class=\"data row2 col3\" >0.8852</td>\n",
              "      <td id=\"T_ed7ac_row2_col4\" class=\"data row2 col4\" >0.9938</td>\n",
              "      <td id=\"T_ed7ac_row2_col5\" class=\"data row2 col5\" >0.9337</td>\n",
              "      <td id=\"T_ed7ac_row2_col6\" class=\"data row2 col6\" >0.8999</td>\n",
              "      <td id=\"T_ed7ac_row2_col7\" class=\"data row2 col7\" >0.9060</td>\n",
              "      <td id=\"T_ed7ac_row2_col8\" class=\"data row2 col8\" >0.0410</td>\n",
              "    </tr>\n",
              "    <tr>\n",
              "      <th id=\"T_ed7ac_level0_row3\" class=\"row_heading level0 row3\" >ada</th>\n",
              "      <td id=\"T_ed7ac_row3_col0\" class=\"data row3 col0\" >Ada Boost Classifier</td>\n",
              "      <td id=\"T_ed7ac_row3_col1\" class=\"data row3 col1\" >0.9548</td>\n",
              "      <td id=\"T_ed7ac_row3_col2\" class=\"data row3 col2\" >0.9869</td>\n",
              "      <td id=\"T_ed7ac_row3_col3\" class=\"data row3 col3\" >0.9190</td>\n",
              "      <td id=\"T_ed7ac_row3_col4\" class=\"data row3 col4\" >0.9599</td>\n",
              "      <td id=\"T_ed7ac_row3_col5\" class=\"data row3 col5\" >0.9370</td>\n",
              "      <td id=\"T_ed7ac_row3_col6\" class=\"data row3 col6\" >0.9019</td>\n",
              "      <td id=\"T_ed7ac_row3_col7\" class=\"data row3 col7\" >0.9046</td>\n",
              "      <td id=\"T_ed7ac_row3_col8\" class=\"data row3 col8\" >0.1670</td>\n",
              "    </tr>\n",
              "    <tr>\n",
              "      <th id=\"T_ed7ac_level0_row4\" class=\"row_heading level0 row4\" >rf</th>\n",
              "      <td id=\"T_ed7ac_row4_col0\" class=\"data row4 col0\" >Random Forest Classifier</td>\n",
              "      <td id=\"T_ed7ac_row4_col1\" class=\"data row4 col1\" >0.9524</td>\n",
              "      <td id=\"T_ed7ac_row4_col2\" class=\"data row4 col2\" >0.9866</td>\n",
              "      <td id=\"T_ed7ac_row4_col3\" class=\"data row4 col3\" >0.9195</td>\n",
              "      <td id=\"T_ed7ac_row4_col4\" class=\"data row4 col4\" >0.9532</td>\n",
              "      <td id=\"T_ed7ac_row4_col5\" class=\"data row4 col5\" >0.9344</td>\n",
              "      <td id=\"T_ed7ac_row4_col6\" class=\"data row4 col6\" >0.8971</td>\n",
              "      <td id=\"T_ed7ac_row4_col7\" class=\"data row4 col7\" >0.8993</td>\n",
              "      <td id=\"T_ed7ac_row4_col8\" class=\"data row4 col8\" >0.3270</td>\n",
              "    </tr>\n",
              "    <tr>\n",
              "      <th id=\"T_ed7ac_level0_row5\" class=\"row_heading level0 row5\" >lda</th>\n",
              "      <td id=\"T_ed7ac_row5_col0\" class=\"data row5 col0\" >Linear Discriminant Analysis</td>\n",
              "      <td id=\"T_ed7ac_row5_col1\" class=\"data row5 col1\" >0.9524</td>\n",
              "      <td id=\"T_ed7ac_row5_col2\" class=\"data row5 col2\" >0.9893</td>\n",
              "      <td id=\"T_ed7ac_row5_col3\" class=\"data row5 col3\" >0.8790</td>\n",
              "      <td id=\"T_ed7ac_row5_col4\" class=\"data row5 col4\" >0.9938</td>\n",
              "      <td id=\"T_ed7ac_row5_col5\" class=\"data row5 col5\" >0.9300</td>\n",
              "      <td id=\"T_ed7ac_row5_col6\" class=\"data row5 col6\" >0.8945</td>\n",
              "      <td id=\"T_ed7ac_row5_col7\" class=\"data row5 col7\" >0.9012</td>\n",
              "      <td id=\"T_ed7ac_row5_col8\" class=\"data row5 col8\" >0.0520</td>\n",
              "    </tr>\n",
              "    <tr>\n",
              "      <th id=\"T_ed7ac_level0_row6\" class=\"row_heading level0 row6\" >qda</th>\n",
              "      <td id=\"T_ed7ac_row6_col0\" class=\"data row6 col0\" >Quadratic Discriminant Analysis</td>\n",
              "      <td id=\"T_ed7ac_row6_col1\" class=\"data row6 col1\" >0.9523</td>\n",
              "      <td id=\"T_ed7ac_row6_col2\" class=\"data row6 col2\" >0.9881</td>\n",
              "      <td id=\"T_ed7ac_row6_col3\" class=\"data row6 col3\" >0.9390</td>\n",
              "      <td id=\"T_ed7ac_row6_col4\" class=\"data row6 col4\" >0.9383</td>\n",
              "      <td id=\"T_ed7ac_row6_col5\" class=\"data row6 col5\" >0.9357</td>\n",
              "      <td id=\"T_ed7ac_row6_col6\" class=\"data row6 col6\" >0.8979</td>\n",
              "      <td id=\"T_ed7ac_row6_col7\" class=\"data row6 col7\" >0.9014</td>\n",
              "      <td id=\"T_ed7ac_row6_col8\" class=\"data row6 col8\" >0.0510</td>\n",
              "    </tr>\n",
              "    <tr>\n",
              "      <th id=\"T_ed7ac_level0_row7\" class=\"row_heading level0 row7\" >gbc</th>\n",
              "      <td id=\"T_ed7ac_row7_col0\" class=\"data row7 col0\" >Gradient Boosting Classifier</td>\n",
              "      <td id=\"T_ed7ac_row7_col1\" class=\"data row7 col1\" >0.9500</td>\n",
              "      <td id=\"T_ed7ac_row7_col2\" class=\"data row7 col2\" >0.9845</td>\n",
              "      <td id=\"T_ed7ac_row7_col3\" class=\"data row7 col3\" >0.9200</td>\n",
              "      <td id=\"T_ed7ac_row7_col4\" class=\"data row7 col4\" >0.9482</td>\n",
              "      <td id=\"T_ed7ac_row7_col5\" class=\"data row7 col5\" >0.9315</td>\n",
              "      <td id=\"T_ed7ac_row7_col6\" class=\"data row7 col6\" >0.8923</td>\n",
              "      <td id=\"T_ed7ac_row7_col7\" class=\"data row7 col7\" >0.8952</td>\n",
              "      <td id=\"T_ed7ac_row7_col8\" class=\"data row7 col8\" >0.3060</td>\n",
              "    </tr>\n",
              "    <tr>\n",
              "      <th id=\"T_ed7ac_level0_row8\" class=\"row_heading level0 row8\" >dt</th>\n",
              "      <td id=\"T_ed7ac_row8_col0\" class=\"data row8 col0\" >Decision Tree Classifier</td>\n",
              "      <td id=\"T_ed7ac_row8_col1\" class=\"data row8 col1\" >0.8996</td>\n",
              "      <td id=\"T_ed7ac_row8_col2\" class=\"data row8 col2\" >0.8955</td>\n",
              "      <td id=\"T_ed7ac_row8_col3\" class=\"data row8 col3\" >0.8790</td>\n",
              "      <td id=\"T_ed7ac_row8_col4\" class=\"data row8 col4\" >0.8613</td>\n",
              "      <td id=\"T_ed7ac_row8_col5\" class=\"data row8 col5\" >0.8679</td>\n",
              "      <td id=\"T_ed7ac_row8_col6\" class=\"data row8 col6\" >0.7871</td>\n",
              "      <td id=\"T_ed7ac_row8_col7\" class=\"data row8 col7\" >0.7897</td>\n",
              "      <td id=\"T_ed7ac_row8_col8\" class=\"data row8 col8\" >0.0550</td>\n",
              "    </tr>\n",
              "    <tr>\n",
              "      <th id=\"T_ed7ac_level0_row9\" class=\"row_heading level0 row9\" >knn</th>\n",
              "      <td id=\"T_ed7ac_row9_col0\" class=\"data row9 col0\" >K Neighbors Classifier</td>\n",
              "      <td id=\"T_ed7ac_row9_col1\" class=\"data row9 col1\" >0.7285</td>\n",
              "      <td id=\"T_ed7ac_row9_col2\" class=\"data row9 col2\" >0.7483</td>\n",
              "      <td id=\"T_ed7ac_row9_col3\" class=\"data row9 col3\" >0.4319</td>\n",
              "      <td id=\"T_ed7ac_row9_col4\" class=\"data row9 col4\" >0.7101</td>\n",
              "      <td id=\"T_ed7ac_row9_col5\" class=\"data row9 col5\" >0.5333</td>\n",
              "      <td id=\"T_ed7ac_row9_col6\" class=\"data row9 col6\" >0.3629</td>\n",
              "      <td id=\"T_ed7ac_row9_col7\" class=\"data row9 col7\" >0.3845</td>\n",
              "      <td id=\"T_ed7ac_row9_col8\" class=\"data row9 col8\" >0.1460</td>\n",
              "    </tr>\n",
              "    <tr>\n",
              "      <th id=\"T_ed7ac_level0_row10\" class=\"row_heading level0 row10\" >nb</th>\n",
              "      <td id=\"T_ed7ac_row10_col0\" class=\"data row10 col0\" >Naive Bayes</td>\n",
              "      <td id=\"T_ed7ac_row10_col1\" class=\"data row10 col1\" >0.6407</td>\n",
              "      <td id=\"T_ed7ac_row10_col2\" class=\"data row10 col2\" >0.8688</td>\n",
              "      <td id=\"T_ed7ac_row10_col3\" class=\"data row10 col3\" >0.0667</td>\n",
              "      <td id=\"T_ed7ac_row10_col4\" class=\"data row10 col4\" >0.0667</td>\n",
              "      <td id=\"T_ed7ac_row10_col5\" class=\"data row10 col5\" >0.0667</td>\n",
              "      <td id=\"T_ed7ac_row10_col6\" class=\"data row10 col6\" >0.0467</td>\n",
              "      <td id=\"T_ed7ac_row10_col7\" class=\"data row10 col7\" >0.0467</td>\n",
              "      <td id=\"T_ed7ac_row10_col8\" class=\"data row10 col8\" >0.0510</td>\n",
              "    </tr>\n",
              "    <tr>\n",
              "      <th id=\"T_ed7ac_level0_row11\" class=\"row_heading level0 row11\" >lr</th>\n",
              "      <td id=\"T_ed7ac_row11_col0\" class=\"data row11 col0\" >Logistic Regression</td>\n",
              "      <td id=\"T_ed7ac_row11_col1\" class=\"data row11 col1\" >0.6282</td>\n",
              "      <td id=\"T_ed7ac_row11_col2\" class=\"data row11 col2\" >0.5666</td>\n",
              "      <td id=\"T_ed7ac_row11_col3\" class=\"data row11 col3\" >0.0000</td>\n",
              "      <td id=\"T_ed7ac_row11_col4\" class=\"data row11 col4\" >0.0000</td>\n",
              "      <td id=\"T_ed7ac_row11_col5\" class=\"data row11 col5\" >0.0000</td>\n",
              "      <td id=\"T_ed7ac_row11_col6\" class=\"data row11 col6\" >0.0000</td>\n",
              "      <td id=\"T_ed7ac_row11_col7\" class=\"data row11 col7\" >0.0000</td>\n",
              "      <td id=\"T_ed7ac_row11_col8\" class=\"data row11 col8\" >0.6460</td>\n",
              "    </tr>\n",
              "    <tr>\n",
              "      <th id=\"T_ed7ac_level0_row12\" class=\"row_heading level0 row12\" >dummy</th>\n",
              "      <td id=\"T_ed7ac_row12_col0\" class=\"data row12 col0\" >Dummy Classifier</td>\n",
              "      <td id=\"T_ed7ac_row12_col1\" class=\"data row12 col1\" >0.6282</td>\n",
              "      <td id=\"T_ed7ac_row12_col2\" class=\"data row12 col2\" >0.5000</td>\n",
              "      <td id=\"T_ed7ac_row12_col3\" class=\"data row12 col3\" >0.0000</td>\n",
              "      <td id=\"T_ed7ac_row12_col4\" class=\"data row12 col4\" >0.0000</td>\n",
              "      <td id=\"T_ed7ac_row12_col5\" class=\"data row12 col5\" >0.0000</td>\n",
              "      <td id=\"T_ed7ac_row12_col6\" class=\"data row12 col6\" >0.0000</td>\n",
              "      <td id=\"T_ed7ac_row12_col7\" class=\"data row12 col7\" >0.0000</td>\n",
              "      <td id=\"T_ed7ac_row12_col8\" class=\"data row12 col8\" >0.0480</td>\n",
              "    </tr>\n",
              "    <tr>\n",
              "      <th id=\"T_ed7ac_level0_row13\" class=\"row_heading level0 row13\" >svm</th>\n",
              "      <td id=\"T_ed7ac_row13_col0\" class=\"data row13 col0\" >SVM - Linear Kernel</td>\n",
              "      <td id=\"T_ed7ac_row13_col1\" class=\"data row13 col1\" >0.5782</td>\n",
              "      <td id=\"T_ed7ac_row13_col2\" class=\"data row13 col2\" >0.0000</td>\n",
              "      <td id=\"T_ed7ac_row13_col3\" class=\"data row13 col3\" >0.2000</td>\n",
              "      <td id=\"T_ed7ac_row13_col4\" class=\"data row13 col4\" >0.0750</td>\n",
              "      <td id=\"T_ed7ac_row13_col5\" class=\"data row13 col5\" >0.1091</td>\n",
              "      <td id=\"T_ed7ac_row13_col6\" class=\"data row13 col6\" >0.0000</td>\n",
              "      <td id=\"T_ed7ac_row13_col7\" class=\"data row13 col7\" >0.0000</td>\n",
              "      <td id=\"T_ed7ac_row13_col8\" class=\"data row13 col8\" >0.0430</td>\n",
              "    </tr>\n",
              "  </tbody>\n",
              "</table>\n"
            ]
          },
          "metadata": {}
        },
        {
          "output_type": "display_data",
          "data": {
            "text/plain": [
              "Processing:   0%|          | 0/61 [00:00<?, ?it/s]"
            ],
            "application/vnd.jupyter.widget-view+json": {
              "version_major": 2,
              "version_minor": 0,
              "model_id": "3688ca8693464445904b97dfb25cd854"
            }
          },
          "metadata": {
            "application/vnd.jupyter.widget-view+json": {
              "colab": {
                "custom_widget_manager": {
                  "url": "https://ssl.gstatic.com/colaboratory-static/widgets/colab-cdn-widget-manager/d2e234f7cc04bf79/manager.min.js"
                }
              }
            }
          }
        },
        {
          "output_type": "display_data",
          "data": {
            "text/plain": [
              "<IPython.core.display.HTML object>"
            ],
            "text/html": []
          },
          "metadata": {}
        },
        {
          "output_type": "execute_result",
          "data": {
            "text/plain": [
              "ExtraTreesClassifier(bootstrap=False, ccp_alpha=0.0, class_weight=None,\n",
              "                     criterion='gini', max_depth=None, max_features='auto',\n",
              "                     max_leaf_nodes=None, max_samples=None,\n",
              "                     min_impurity_decrease=0.0, min_samples_leaf=1,\n",
              "                     min_samples_split=2, min_weight_fraction_leaf=0.0,\n",
              "                     n_estimators=100, n_jobs=-1, oob_score=False,\n",
              "                     random_state=2857, verbose=0, warm_start=False)"
            ]
          },
          "metadata": {},
          "execution_count": 93
        }
      ],
      "source": [
        "# выводим результаты Эксперемента (обучения)\n",
        "exp1.compare_models()"
      ]
    },
    {
      "cell_type": "markdown",
      "metadata": {
        "id": "x_vxR4zRMyIt"
      },
      "source": [
        "Лучший результат в PyCaret (по точности тестирования) показал ансамбль - Классификатор случайных деревьев (et) Extra trees classifier): ~ 0.9749* (или 97,49%).\n",
        "\n",
        "! * При каждом пересчёте (последующих обучениях) одного и того же набора данных  (Датасета),  при неизменных (одних и тех же) входных параметрах, выходные показатели будут (незначительно) меняться, т.к.  выборка (на обучающую и тестовую) делится (выбираются данные) автоматически, случайным образом (числом)!"
      ]
    },
    {
      "cell_type": "markdown",
      "metadata": {
        "id": "8muQhcT75WvZ"
      },
      "source": [
        "# Выводы (заключения)"
      ]
    },
    {
      "cell_type": "markdown",
      "metadata": {
        "id": "agNUKMosx1hR"
      },
      "source": [
        "\n",
        "\n",
        "В данном блокноте (Colab), Мы:\n",
        "\n",
        "1)\t Выбрали Датасет (на ресурсе Kagll.com), определили Задачу (бинарной классификации) и установили цель (target: ‘diagnosis’)  или Диагноз.  В этой задаче (классификации) Мы должны предсказать наличие (или отсутствие) онкологии молочной железы: M (злокачественная) или B (доброкачественная), используя методы машинного обучения (ML). \n",
        "\n",
        " Исследование проводили на (реальном) наборе  Данных: \"Набор данных о раке молочной железы в Висконсине (диагностический)\", ссылка (на Датасет): https://www.kaggle.com/datasets/uciml/breast-cancer-wisconsin-data , (на Репозиторий): https://archive.ics.uci.edu/ml/machine-learning-databases/breast-cancer-wisconsin/wdbc.data. \n",
        "\n",
        "Загрузив в блокнот данный Датасет, проанализировали Данные и подготовили их для целей машинного обучения (ML). \n",
        "\n",
        "2)\t Выбрали и обучили (подходящие для  цели классификации)  модели (ML) в средах  (и с  использованием  библиотек) Sclearn (Логистическая (линейная) регрессия, Деревья  решений и Случайный лес), PyCaret  (Ансамблевым методом из 15-ти алгоритмов машинного обучения).\n",
        "\n",
        "3)\tСравнили результаты экспериментов полученных в результате обучения (и тестирования) выбранных нами алгоритмов (ML) и выявили лучший из них. \n",
        "Им оказался алгоритм в Ансамбля среды PyCaret: ‘Классификатор случайных деревьев’ (et) ‘Extra trees classifier’) c результатом ~ 0.9749* (или 97,49%) по точности тестирования (Testing Accuracy).\n",
        "\n",
        "[! * При каждом пересчёте (последующих обучениях) одного и того же набора данных (Датасета), при неизменных (одних и тех же) входных параметрах, выходные показатели будут (незначительно) меняться, т.к. выборка (на обучающую и тестовую) делится (выбираются данные) автоматически, случайным образом (числом)!]\n",
        "\n",
        "Следом за ним идёт Алгоритм библиотеки Sclern : Cлучайный лес (Random forest classifier) RFC: ~ 0.97368421 (или 97,368421 %) по точности тестирования.\n",
        "\n",
        "4) Если сравнить оба данных метода (алгоритма), то основное различие между алгоритмом Random forest и Extra tree заключается в следующем:\n",
        "\n",
        "а) Случайный лес использует подготовленные (загрузочные) выборки (обучающую и тестовую) , он выполняет подвыборку (входных) данных с заменой, тогда как ‘Классификатор случайных деревьев’ (et) ‘Extra trees classifier’) использует весь исходный набор данных (неразделённый датасет).\n",
        "\n",
        "б) Другим отличием является выбор точек разделения выборки (на обучающую и тестовую), для разделения данных Random Forest выбирает оптимальное разделение, а Extra Trees выбирает его случайным образом. \n",
        "Однако после выбора точи разделения на две подвыборки, сам определяет лучшие из всех подмножеств признаков. Поэтому Extra Trees добавляет рандомизацию (но все еще имеет оптимизацию).\n",
        "\n",
        "Преимущества алгоритма ‘Классификатор случайных деревьев’ (et) ‘Extra trees classifier’ вероятно в том, что он (et)  использует весь исходный Датасет вместо разделённой для обучения выборки, уменьшая погрешность.\n",
        "Кроме того он является высокорандомизированный алгоритмом и случайным образом выбирает точку разделения данных (на обучающие и тестовые), что снижает дисперсию.\n",
        "\n",
        "Он (намного) быстрее алгоритмов: «Дерева решений» и «Случайного леса», поскольку не тратит время на выбор оптимальной точки разделения входных параметров.\n",
        "Поскольку данный  алгоритм (‘Классификатор случайных деревьев’ (et) ‘Extra trees classifier’)  уменьшает систематическую ошибку, т.е. вероятность того, что модель (ML) будет переобучена (или недообучена) значительно снижается.\n",
        "\n",
        "Благодарю за внимание!\n"
      ]
    },
    {
      "cell_type": "markdown",
      "metadata": {
        "id": "mPDayeMF0jPN"
      },
      "source": [
        "#P.S. "
      ]
    },
    {
      "cell_type": "markdown",
      "metadata": {
        "id": "BDadSdDo4J-A"
      },
      "source": [
        "Анимация: Градиентный спуск "
      ]
    },
    {
      "cell_type": "markdown",
      "metadata": {
        "id": "40XhbPxBXZbj"
      },
      "source": [
        "gradient_descent.gif"
      ]
    },
    {
      "cell_type": "markdown",
      "metadata": {
        "id": "aXdBTlpBLIfI"
      },
      "source": [
        "![Без названия.gif](data:image/gif;base64,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)"
      ]
    },
    {
      "cell_type": "markdown",
      "metadata": {
        "id": "WGmYodg47LiT"
      },
      "source": [
        "Спасибо!"
      ]
    },
    {
      "cell_type": "code",
      "execution_count": null,
      "metadata": {
        "colab": {
          "background_save": true
        },
        "id": "iCMwV7Sm6bg7"
      },
      "outputs": [],
      "source": []
    }
  ],
  "metadata": {
    "colab": {
      "collapsed_sections": [
        "RuFy0RSwW3wA",
        "7X78G_RhDdx1",
        "0Ac7OnRpW8mr",
        "WlzsygePpBB7",
        "i5SanCwKCi27",
        "8muQhcT75WvZ",
        "mPDayeMF0jPN"
      ],
      "provenance": [],
      "include_colab_link": true
    },
    "gpuClass": "standard",
    "kernelspec": {
      "display_name": "Python 3",
      "name": "python3"
    },
    "widgets": {
      "application/vnd.jupyter.widget-state+json": {
        "62025169ed214fa1b4bbf0dd10bb259f": {
          "model_module": "@jupyter-widgets/controls",
          "model_name": "VBoxModel",
          "model_module_version": "1.5.0",
          "state": {
            "_dom_classes": [
              "widget-interact"
            ],
            "_model_module": "@jupyter-widgets/controls",
            "_model_module_version": "1.5.0",
            "_model_name": "VBoxModel",
            "_view_count": null,
            "_view_module": "@jupyter-widgets/controls",
            "_view_module_version": "1.5.0",
            "_view_name": "VBoxView",
            "box_style": "",
            "children": [
              "IPY_MODEL_31f26ff8c6fe4edb8f2453380df130c1",
              "IPY_MODEL_4be2e342e84d4972bdc86321020e037f"
            ],
            "layout": "IPY_MODEL_d451e26f6e364bab83ac03afabcada8d"
          }
        },
        "31f26ff8c6fe4edb8f2453380df130c1": {
          "model_module": "@jupyter-widgets/controls",
          "model_name": "ToggleButtonsModel",
          "model_module_version": "1.5.0",
          "state": {
            "_dom_classes": [],
            "_model_module": "@jupyter-widgets/controls",
            "_model_module_version": "1.5.0",
            "_model_name": "ToggleButtonsModel",
            "_options_labels": [
              "Pipeline Plot",
              "Hyperparameters",
              "AUC",
              "Confusion Matrix",
              "Threshold",
              "Precision Recall",
              "Prediction Error",
              "Class Report",
              "Feature Selection",
              "Learning Curve",
              "Manifold Learning",
              "Calibration Curve",
              "Validation Curve",
              "Dimensions",
              "Feature Importance",
              "Feature Importance (All)",
              "Decision Boundary",
              "Lift Chart",
              "Gain Chart",
              "Decision Tree",
              "KS Statistic Plot"
            ],
            "_view_count": null,
            "_view_module": "@jupyter-widgets/controls",
            "_view_module_version": "1.5.0",
            "_view_name": "ToggleButtonsView",
            "button_style": "",
            "description": "Plot Type:",
            "description_tooltip": null,
            "disabled": false,
            "icons": [
              ""
            ],
            "index": 15,
            "layout": "IPY_MODEL_ce03e3cb544f4f4abfe9128ee339e3c2",
            "style": "IPY_MODEL_a5613835d5c74e6b8f043dd4e685bf3c",
            "tooltips": []
          }
        },
        "4be2e342e84d4972bdc86321020e037f": {
          "model_module": "@jupyter-widgets/output",
          "model_name": "OutputModel",
          "model_module_version": "1.0.0",
          "state": {
            "_dom_classes": [],
            "_model_module": "@jupyter-widgets/output",
            "_model_module_version": "1.0.0",
            "_model_name": "OutputModel",
            "_view_count": null,
            "_view_module": "@jupyter-widgets/output",
            "_view_module_version": "1.0.0",
            "_view_name": "OutputView",
            "layout": "IPY_MODEL_bf5d992bc11e4796b311b79c98d1dd1b",
            "msg_id": "",
            "outputs": [
              {
                "output_type": "display_data",
                "data": {
                  "text/plain": "<Figure size 800x500 with 1 Axes>",
                  "image/png": "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\n"
                },
                "metadata": {
                  "needs_background": "light"
                }
              }
            ]
          }
        },
        "d451e26f6e364bab83ac03afabcada8d": {
          "model_module": "@jupyter-widgets/base",
          "model_name": "LayoutModel",
          "model_module_version": "1.2.0",
          "state": {
            "_model_module": "@jupyter-widgets/base",
            "_model_module_version": "1.2.0",
            "_model_name": "LayoutModel",
            "_view_count": null,
            "_view_module": "@jupyter-widgets/base",
            "_view_module_version": "1.2.0",
            "_view_name": "LayoutView",
            "align_content": null,
            "align_items": null,
            "align_self": null,
            "border": null,
            "bottom": null,
            "display": null,
            "flex": null,
            "flex_flow": null,
            "grid_area": null,
            "grid_auto_columns": null,
            "grid_auto_flow": null,
            "grid_auto_rows": null,
            "grid_column": null,
            "grid_gap": null,
            "grid_row": null,
            "grid_template_areas": null,
            "grid_template_columns": null,
            "grid_template_rows": null,
            "height": null,
            "justify_content": null,
            "justify_items": null,
            "left": null,
            "margin": null,
            "max_height": null,
            "max_width": null,
            "min_height": null,
            "min_width": null,
            "object_fit": null,
            "object_position": null,
            "order": null,
            "overflow": null,
            "overflow_x": null,
            "overflow_y": null,
            "padding": null,
            "right": null,
            "top": null,
            "visibility": null,
            "width": null
          }
        },
        "ce03e3cb544f4f4abfe9128ee339e3c2": {
          "model_module": "@jupyter-widgets/base",
          "model_name": "LayoutModel",
          "model_module_version": "1.2.0",
          "state": {
            "_model_module": "@jupyter-widgets/base",
            "_model_module_version": "1.2.0",
            "_model_name": "LayoutModel",
            "_view_count": null,
            "_view_module": "@jupyter-widgets/base",
            "_view_module_version": "1.2.0",
            "_view_name": "LayoutView",
            "align_content": null,
            "align_items": null,
            "align_self": null,
            "border": null,
            "bottom": null,
            "display": null,
            "flex": null,
            "flex_flow": null,
            "grid_area": null,
            "grid_auto_columns": null,
            "grid_auto_flow": null,
            "grid_auto_rows": null,
            "grid_column": null,
            "grid_gap": null,
            "grid_row": null,
            "grid_template_areas": null,
            "grid_template_columns": null,
            "grid_template_rows": null,
            "height": null,
            "justify_content": null,
            "justify_items": null,
            "left": null,
            "margin": null,
            "max_height": null,
            "max_width": null,
            "min_height": null,
            "min_width": null,
            "object_fit": null,
            "object_position": null,
            "order": null,
            "overflow": null,
            "overflow_x": null,
            "overflow_y": null,
            "padding": null,
            "right": null,
            "top": null,
            "visibility": null,
            "width": null
          }
        },
        "a5613835d5c74e6b8f043dd4e685bf3c": {
          "model_module": "@jupyter-widgets/controls",
          "model_name": "ToggleButtonsStyleModel",
          "model_module_version": "1.5.0",
          "state": {
            "_model_module": "@jupyter-widgets/controls",
            "_model_module_version": "1.5.0",
            "_model_name": "ToggleButtonsStyleModel",
            "_view_count": null,
            "_view_module": "@jupyter-widgets/base",
            "_view_module_version": "1.2.0",
            "_view_name": "StyleView",
            "button_width": "",
            "description_width": "",
            "font_weight": ""
          }
        },
        "bf5d992bc11e4796b311b79c98d1dd1b": {
          "model_module": "@jupyter-widgets/base",
          "model_name": "LayoutModel",
          "model_module_version": "1.2.0",
          "state": {
            "_model_module": "@jupyter-widgets/base",
            "_model_module_version": "1.2.0",
            "_model_name": "LayoutModel",
            "_view_count": null,
            "_view_module": "@jupyter-widgets/base",
            "_view_module_version": "1.2.0",
            "_view_name": "LayoutView",
            "align_content": null,
            "align_items": null,
            "align_self": null,
            "border": null,
            "bottom": null,
            "display": null,
            "flex": null,
            "flex_flow": null,
            "grid_area": null,
            "grid_auto_columns": null,
            "grid_auto_flow": null,
            "grid_auto_rows": null,
            "grid_column": null,
            "grid_gap": null,
            "grid_row": null,
            "grid_template_areas": null,
            "grid_template_columns": null,
            "grid_template_rows": null,
            "height": null,
            "justify_content": null,
            "justify_items": null,
            "left": null,
            "margin": null,
            "max_height": null,
            "max_width": null,
            "min_height": null,
            "min_width": null,
            "object_fit": null,
            "object_position": null,
            "order": null,
            "overflow": null,
            "overflow_x": null,
            "overflow_y": null,
            "padding": null,
            "right": null,
            "top": null,
            "visibility": null,
            "width": null
          }
        },
        "3688ca8693464445904b97dfb25cd854": {
          "model_module": "@jupyter-widgets/controls",
          "model_name": "HBoxModel",
          "model_module_version": "1.5.0",
          "state": {
            "_dom_classes": [],
            "_model_module": "@jupyter-widgets/controls",
            "_model_module_version": "1.5.0",
            "_model_name": "HBoxModel",
            "_view_count": null,
            "_view_module": "@jupyter-widgets/controls",
            "_view_module_version": "1.5.0",
            "_view_name": "HBoxView",
            "box_style": "",
            "children": [
              "IPY_MODEL_fd6d17d9188d4198bae3d792d5a67622",
              "IPY_MODEL_060eb2ed7b8448bb80ca60ee2b268d9a",
              "IPY_MODEL_757ae09b33754c9dae2223e946104de1"
            ],
            "layout": "IPY_MODEL_7e99c7657d0447679e2e87e819b58b12"
          }
        },
        "fd6d17d9188d4198bae3d792d5a67622": {
          "model_module": "@jupyter-widgets/controls",
          "model_name": "HTMLModel",
          "model_module_version": "1.5.0",
          "state": {
            "_dom_classes": [],
            "_model_module": "@jupyter-widgets/controls",
            "_model_module_version": "1.5.0",
            "_model_name": "HTMLModel",
            "_view_count": null,
            "_view_module": "@jupyter-widgets/controls",
            "_view_module_version": "1.5.0",
            "_view_name": "HTMLView",
            "description": "",
            "description_tooltip": null,
            "layout": "IPY_MODEL_518ddd6391c645818cf19a3a0972c98c",
            "placeholder": "​",
            "style": "IPY_MODEL_ec6c92ad32fc491595b994ca33e5a26e",
            "value": "Processing: 100%"
          }
        },
        "060eb2ed7b8448bb80ca60ee2b268d9a": {
          "model_module": "@jupyter-widgets/controls",
          "model_name": "FloatProgressModel",
          "model_module_version": "1.5.0",
          "state": {
            "_dom_classes": [],
            "_model_module": "@jupyter-widgets/controls",
            "_model_module_version": "1.5.0",
            "_model_name": "FloatProgressModel",
            "_view_count": null,
            "_view_module": "@jupyter-widgets/controls",
            "_view_module_version": "1.5.0",
            "_view_name": "ProgressView",
            "bar_style": "",
            "description": "",
            "description_tooltip": null,
            "layout": "IPY_MODEL_5fe4e0c1d61344edaa7b6d5db8009892",
            "max": 61,
            "min": 0,
            "orientation": "horizontal",
            "style": "IPY_MODEL_578a09438bf74fa08a64366a9ccc97c4",
            "value": 61
          }
        },
        "757ae09b33754c9dae2223e946104de1": {
          "model_module": "@jupyter-widgets/controls",
          "model_name": "HTMLModel",
          "model_module_version": "1.5.0",
          "state": {
            "_dom_classes": [],
            "_model_module": "@jupyter-widgets/controls",
            "_model_module_version": "1.5.0",
            "_model_name": "HTMLModel",
            "_view_count": null,
            "_view_module": "@jupyter-widgets/controls",
            "_view_module_version": "1.5.0",
            "_view_name": "HTMLView",
            "description": "",
            "description_tooltip": null,
            "layout": "IPY_MODEL_080bdfdf778c4630be2717d2702be25a",
            "placeholder": "​",
            "style": "IPY_MODEL_75a5a53abede4e1b83716a795b7ce207",
            "value": " 61/61 [00:27&lt;00:00,  3.60it/s]"
          }
        },
        "7e99c7657d0447679e2e87e819b58b12": {
          "model_module": "@jupyter-widgets/base",
          "model_name": "LayoutModel",
          "model_module_version": "1.2.0",
          "state": {
            "_model_module": "@jupyter-widgets/base",
            "_model_module_version": "1.2.0",
            "_model_name": "LayoutModel",
            "_view_count": null,
            "_view_module": "@jupyter-widgets/base",
            "_view_module_version": "1.2.0",
            "_view_name": "LayoutView",
            "align_content": null,
            "align_items": null,
            "align_self": null,
            "border": null,
            "bottom": null,
            "display": null,
            "flex": null,
            "flex_flow": null,
            "grid_area": null,
            "grid_auto_columns": null,
            "grid_auto_flow": null,
            "grid_auto_rows": null,
            "grid_column": null,
            "grid_gap": null,
            "grid_row": null,
            "grid_template_areas": null,
            "grid_template_columns": null,
            "grid_template_rows": null,
            "height": null,
            "justify_content": null,
            "justify_items": null,
            "left": null,
            "margin": null,
            "max_height": null,
            "max_width": null,
            "min_height": null,
            "min_width": null,
            "object_fit": null,
            "object_position": null,
            "order": null,
            "overflow": null,
            "overflow_x": null,
            "overflow_y": null,
            "padding": null,
            "right": null,
            "top": null,
            "visibility": "hidden",
            "width": null
          }
        },
        "518ddd6391c645818cf19a3a0972c98c": {
          "model_module": "@jupyter-widgets/base",
          "model_name": "LayoutModel",
          "model_module_version": "1.2.0",
          "state": {
            "_model_module": "@jupyter-widgets/base",
            "_model_module_version": "1.2.0",
            "_model_name": "LayoutModel",
            "_view_count": null,
            "_view_module": "@jupyter-widgets/base",
            "_view_module_version": "1.2.0",
            "_view_name": "LayoutView",
            "align_content": null,
            "align_items": null,
            "align_self": null,
            "border": null,
            "bottom": null,
            "display": null,
            "flex": null,
            "flex_flow": null,
            "grid_area": null,
            "grid_auto_columns": null,
            "grid_auto_flow": null,
            "grid_auto_rows": null,
            "grid_column": null,
            "grid_gap": null,
            "grid_row": null,
            "grid_template_areas": null,
            "grid_template_columns": null,
            "grid_template_rows": null,
            "height": null,
            "justify_content": null,
            "justify_items": null,
            "left": null,
            "margin": null,
            "max_height": null,
            "max_width": null,
            "min_height": null,
            "min_width": null,
            "object_fit": null,
            "object_position": null,
            "order": null,
            "overflow": null,
            "overflow_x": null,
            "overflow_y": null,
            "padding": null,
            "right": null,
            "top": null,
            "visibility": null,
            "width": null
          }
        },
        "ec6c92ad32fc491595b994ca33e5a26e": {
          "model_module": "@jupyter-widgets/controls",
          "model_name": "DescriptionStyleModel",
          "model_module_version": "1.5.0",
          "state": {
            "_model_module": "@jupyter-widgets/controls",
            "_model_module_version": "1.5.0",
            "_model_name": "DescriptionStyleModel",
            "_view_count": null,
            "_view_module": "@jupyter-widgets/base",
            "_view_module_version": "1.2.0",
            "_view_name": "StyleView",
            "description_width": ""
          }
        },
        "5fe4e0c1d61344edaa7b6d5db8009892": {
          "model_module": "@jupyter-widgets/base",
          "model_name": "LayoutModel",
          "model_module_version": "1.2.0",
          "state": {
            "_model_module": "@jupyter-widgets/base",
            "_model_module_version": "1.2.0",
            "_model_name": "LayoutModel",
            "_view_count": null,
            "_view_module": "@jupyter-widgets/base",
            "_view_module_version": "1.2.0",
            "_view_name": "LayoutView",
            "align_content": null,
            "align_items": null,
            "align_self": null,
            "border": null,
            "bottom": null,
            "display": null,
            "flex": null,
            "flex_flow": null,
            "grid_area": null,
            "grid_auto_columns": null,
            "grid_auto_flow": null,
            "grid_auto_rows": null,
            "grid_column": null,
            "grid_gap": null,
            "grid_row": null,
            "grid_template_areas": null,
            "grid_template_columns": null,
            "grid_template_rows": null,
            "height": null,
            "justify_content": null,
            "justify_items": null,
            "left": null,
            "margin": null,
            "max_height": null,
            "max_width": null,
            "min_height": null,
            "min_width": null,
            "object_fit": null,
            "object_position": null,
            "order": null,
            "overflow": null,
            "overflow_x": null,
            "overflow_y": null,
            "padding": null,
            "right": null,
            "top": null,
            "visibility": null,
            "width": null
          }
        },
        "578a09438bf74fa08a64366a9ccc97c4": {
          "model_module": "@jupyter-widgets/controls",
          "model_name": "ProgressStyleModel",
          "model_module_version": "1.5.0",
          "state": {
            "_model_module": "@jupyter-widgets/controls",
            "_model_module_version": "1.5.0",
            "_model_name": "ProgressStyleModel",
            "_view_count": null,
            "_view_module": "@jupyter-widgets/base",
            "_view_module_version": "1.2.0",
            "_view_name": "StyleView",
            "bar_color": null,
            "description_width": ""
          }
        },
        "080bdfdf778c4630be2717d2702be25a": {
          "model_module": "@jupyter-widgets/base",
          "model_name": "LayoutModel",
          "model_module_version": "1.2.0",
          "state": {
            "_model_module": "@jupyter-widgets/base",
            "_model_module_version": "1.2.0",
            "_model_name": "LayoutModel",
            "_view_count": null,
            "_view_module": "@jupyter-widgets/base",
            "_view_module_version": "1.2.0",
            "_view_name": "LayoutView",
            "align_content": null,
            "align_items": null,
            "align_self": null,
            "border": null,
            "bottom": null,
            "display": null,
            "flex": null,
            "flex_flow": null,
            "grid_area": null,
            "grid_auto_columns": null,
            "grid_auto_flow": null,
            "grid_auto_rows": null,
            "grid_column": null,
            "grid_gap": null,
            "grid_row": null,
            "grid_template_areas": null,
            "grid_template_columns": null,
            "grid_template_rows": null,
            "height": null,
            "justify_content": null,
            "justify_items": null,
            "left": null,
            "margin": null,
            "max_height": null,
            "max_width": null,
            "min_height": null,
            "min_width": null,
            "object_fit": null,
            "object_position": null,
            "order": null,
            "overflow": null,
            "overflow_x": null,
            "overflow_y": null,
            "padding": null,
            "right": null,
            "top": null,
            "visibility": null,
            "width": null
          }
        },
        "75a5a53abede4e1b83716a795b7ce207": {
          "model_module": "@jupyter-widgets/controls",
          "model_name": "DescriptionStyleModel",
          "model_module_version": "1.5.0",
          "state": {
            "_model_module": "@jupyter-widgets/controls",
            "_model_module_version": "1.5.0",
            "_model_name": "DescriptionStyleModel",
            "_view_count": null,
            "_view_module": "@jupyter-widgets/base",
            "_view_module_version": "1.2.0",
            "_view_name": "StyleView",
            "description_width": ""
          }
        }
      }
    },
    "accelerator": "GPU"
  },
  "nbformat": 4,
  "nbformat_minor": 0
}