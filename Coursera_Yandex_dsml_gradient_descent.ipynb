{
  "nbformat": 4,
  "nbformat_minor": 0,
  "metadata": {
    "colab": {
      "private_outputs": true,
      "provenance": [],
      "name": "Coursera_Yandex_dsml-gradient_descent.ipynb",
      "authorship_tag": "ABX9TyMBhUZlmVEpCTtmWvLsZN/l",
      "include_colab_link": true
    },
    "kernelspec": {
      "name": "python3",
      "display_name": "Python 3"
    },
    "language_info": {
      "name": "python"
    }
  },
  "cells": [
    {
      "cell_type": "markdown",
      "metadata": {
        "id": "view-in-github",
        "colab_type": "text"
      },
      "source": [
        "<a href=\"https://colab.research.google.com/github/Pv01energ/pv01/blob/main/Coursera_Yandex_dsml_gradient_descent.ipynb\" target=\"_parent\"><img src=\"https://colab.research.google.com/assets/colab-badge.svg\" alt=\"Open In Colab\"/></a>"
      ]
    },
    {
      "cell_type": "code",
      "execution_count": null,
      "metadata": {
        "id": "Kaf8H-t7qGf4"
      },
      "outputs": [],
      "source": [
        "import numpy as np\n",
        "import pandas as pd\n",
        "from sklearn.metrics import roc_auc_score\n"
      ]
    },
    {
      "cell_type": "code",
      "source": [
        "# загружаем датасет (data)\n",
        "from google.colab import files \n",
        "uploaded = files.upload()\n",
        "dt = pd.read_csv('data-logistic.csv')"
      ],
      "metadata": {
        "id": "ODL8y_3ZrumV"
      },
      "execution_count": null,
      "outputs": []
    },
    {
      "cell_type": "code",
      "source": [
        "def gradient_descent_reg(W: np.ndarray, X: np.ndarray, y: np.ndarray, k=0.1, C=10, eps=1e-5):\n",
        "    l = len(y)\n",
        "    t = 0\n",
        "    while t <= 10000:\n",
        "        t += 1\n",
        "        prev_W = W.copy()\n",
        "        dot: np.ndarray = np.dot(X, W)\n",
        "        for i, w in enumerate(prev_W):\n",
        "            w = w + k / l * sum(y * X[:, i] * (1 - 1 / (1 + np.exp(-y * dot)))) - k * C * w\n",
        "            W[i] = w\n",
        "        if np.linalg.norm(W - prev_W) <= eps:\n",
        "            print(\"Iterations:\", t)\n",
        "            return W\n",
        "    return W"
      ],
      "metadata": {
        "id": "oeTwwT9WqrD-"
      },
      "execution_count": null,
      "outputs": []
    },
    {
      "cell_type": "code",
      "source": [
        "def gradient_descent(W: np.ndarray, X: np.ndarray, y: np.ndarray, k=0.1, eps=1e-5):\n",
        "    l = len(y)\n",
        "    t = 0\n",
        "    while t <= 10000:\n",
        "        t += 1\n",
        "        prev_W = W.copy()\n",
        "        dot: np.ndarray = np.dot(X, W)\n",
        "        for i, w in enumerate(prev_W):\n",
        "            w = w + k / l * sum(y * X[:, i] * (1 - 1 / (1 + np.exp(-y * dot))))\n",
        "            W[i] = w\n",
        "        if np.linalg.norm(W - prev_W) <= eps:\n",
        "            print(\"Iterations:\", t)\n",
        "            return W\n",
        "    return W"
      ],
      "metadata": {
        "id": "9K9waTSRq1hX"
      },
      "execution_count": null,
      "outputs": []
    },
    {
      "cell_type": "code",
      "source": [
        "def A(X, y, feature_index, w0):\n",
        "#     d = -np.dot(X[:,0] * w0[0], y) - np.dot(X[:,1] * w0[1], y)\n",
        "#     e = (1. - 1. / (1. + np.exp(d))) * np.dot(X[:, feature_index], y)\n",
        "    d = -X[:,0] * w0[0] * y - X[:,1] * w0[1] * y\n",
        "    e = (1. - 1. / (1. + np.exp(d))) * X[:, feature_index] * y\n",
        "    return sum(e)\n",
        "\n",
        "def grad_t(X, y, W, k=0.1, eps=1e-5, C = 10):\n",
        "    l = len(y)\n",
        "    t = 0\n",
        "    while t <= 10000:\n",
        "        t += 1\n",
        "        old_W = W.copy()\n",
        "        W[0] = W[0] + k/l * A(X, y, 0, W) - k * C * W[0]\n",
        "        W[1] = W[1] + k/l * A(X, y, 1, W) - k * C * W[1]\n",
        "        if np.linalg.norm(W - old_W) <= eps:\n",
        "            print(\"Iterations:\", t)\n",
        "            return W\n",
        "    return W"
      ],
      "metadata": {
        "id": "kNPWlIzQq8D2"
      },
      "execution_count": null,
      "outputs": []
    },
    {
      "cell_type": "code",
      "source": [
        "data_set = pd.read_csv(\"datasets/data-logistic.csv\", names = [\"y\", \"X1\", \"X2\"])\n",
        "\n",
        "y = data_set.y.copy().astype(int)\n",
        "X = data_set[[\"X1\", \"X2\"]]"
      ],
      "metadata": {
        "id": "_sjG4A9SrKQG"
      },
      "execution_count": null,
      "outputs": []
    },
    {
      "cell_type": "code",
      "source": [
        "# foreg_W = A()\n",
        "W_reg = grad_t(X.values, y.values, np.array([0., 0.]))\n",
        "W_ = grad_t(X.values, y.values, np.array([0., 0.]), C=0)\n",
        "print(W_reg)\n",
        "print(W_)"
      ],
      "metadata": {
        "id": "e2OKW0y2rWUn"
      },
      "execution_count": null,
      "outputs": []
    },
    {
      "cell_type": "code",
      "source": [
        "sig_reg = 1 / (1 + np.exp(-np.dot(X, W_reg)))\n",
        "sig = 1 / (1 + np.exp(-np.dot(X, W_)))\n",
        "print(\"Reg score\" , roc_auc_score(y.values, sig_reg))\n",
        "print(\"Not reg score\" ,roc_auc_score(y.values, sig))"
      ],
      "metadata": {
        "id": "RQvLP2pNrf9u"
      },
      "execution_count": null,
      "outputs": []
    },
    {
      "cell_type": "code",
      "source": [],
      "metadata": {
        "id": "X7vlHwaxrqlA"
      },
      "execution_count": null,
      "outputs": []
    }
  ]
}